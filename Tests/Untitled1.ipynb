{
 "cells": [
  {
   "cell_type": "code",
   "execution_count": 1,
   "id": "humanitarian-cisco",
   "metadata": {},
   "outputs": [],
   "source": [
    "from jimutmap import api"
   ]
  },
  {
   "cell_type": "code",
   "execution_count": 12,
   "id": "brutal-occasions",
   "metadata": {},
   "outputs": [],
   "source": [
    "download_obj = api(min_lat_deg = 34.07591649111752,\n",
    "                   max_lat_deg = 34.07736874425625,\n",
    "                   min_lon_deg = -84.25748080185113,\n",
    "                   max_lon_deg = -84.25579308490153,\n",
    "                   zoom = 23,\n",
    "                   verbose = False,\n",
    "                   threads_ = 5, \n",
    "                   container_dir = \"Dataset\")"
   ]
  },
  {
   "cell_type": "code",
   "execution_count": 13,
   "id": "isolated-helena",
   "metadata": {},
   "outputs": [
    {
     "name": "stderr",
     "output_type": "stream",
     "text": [
      "100%|████████████████████████████████████████████████████████████████████████████████████████████| 3/3 [00:00<?, ?it/s]\n"
     ]
    }
   ],
   "source": [
    "download_obj.download(getMasks = True)"
   ]
  },
  {
   "cell_type": "code",
   "execution_count": null,
   "id": "latest-approval",
   "metadata": {},
   "outputs": [],
   "source": []
  },
  {
   "cell_type": "code",
   "execution_count": null,
   "id": "qualified-wealth",
   "metadata": {},
   "outputs": [],
   "source": [
    "import urllib\n",
    "import Image\n",
    "import os\n",
    "import math"
   ]
  },
  {
   "cell_type": "code",
   "execution_count": 14,
   "id": "funny-premiere",
   "metadata": {},
   "outputs": [],
   "source": [
    "def getXY(self):\n",
    "    \"\"\"\n",
    "        Generates an X,Y tile coordinate based on the latitude, longitude \n",
    "        and zoom level\n",
    "        Returns:    An X,Y tile coordinate\n",
    "    \"\"\"\n",
    "    tile_size = 256\n",
    "\n",
    "    # Use a left shift to get the power of 2\n",
    "    # i.e. a zoom level of 2 will have 2^2 = 4 tiles\n",
    "    numTiles = 1 << self._zoom\n",
    "\n",
    "    # Find the x_point given the longitude\n",
    "    point_x = (tile_size/ 2 + self._lng * tile_size / 360.0) * numTiles // tile_size\n",
    "\n",
    "    # Convert the latitude to radians and take the sine\n",
    "    sin_y = math.sin(self._lat * (math.pi / 180.0))\n",
    "\n",
    "    # Calulate the y coorindate\n",
    "    point_y = ((tile_size / 2) + 0.5 * math.log((1+sin_y)/(1-sin_y)) * -(tile_size / (2 * math.pi))) * numTiles // tile_size\n",
    "\n",
    "    return int(point_x), int(point_y)\n",
    "\n",
    "def generateImage(self, **kwargs):\n",
    "    \"\"\"\n",
    "        Generates an image by stitching a number of google map tiles together.\n",
    "\n",
    "        Args:\n",
    "            start_x:        The top-left x-tile coordinate\n",
    "            start_y:        The top-left y-tile coordinate\n",
    "            tile_width:     The number of tiles wide the image should be -\n",
    "                            defaults to 5\n",
    "            tile_height:    The number of tiles high the image should be -\n",
    "                            defaults to 5\n",
    "        Returns:\n",
    "            A high-resolution Goole Map image.\n",
    "    \"\"\"\n",
    "\n",
    "    start_x = kwargs.get('start_x', None)\n",
    "    start_y = kwargs.get('start_y', None)\n",
    "    tile_width = kwargs.get('tile_width', 5)\n",
    "    tile_height = kwargs.get('tile_height', 5)\n",
    "\n",
    "    # Check that we have x and y tile coordinates\n",
    "    if start_x == None or start_y == None :\n",
    "        start_x, start_y = self.getXY()\n",
    "\n",
    "    # Determine the size of the image\n",
    "    width, height = 256 * tile_width, 256 * tile_height\n",
    "\n",
    "    #Create a new image of the size require\n",
    "    map_img = Image.new('RGB', (width,height))\n",
    "\n",
    "    for x in range(0, tile_width):\n",
    "        for y in range(0, tile_height) :\n",
    "            url = 'https://mt0.google.com/vt?x='+str(start_x+x)+'&y='+str(start_y+y)+'&z='+str(self._zoom)\n",
    "\n",
    "            current_tile = str(x)+'-'+str(y)\n",
    "            urllib.urlretrieve(url, current_tile)\n",
    "\n",
    "            im = Image.open(current_tile)\n",
    "            map_img.paste(im, (x*256, y*256))\n",
    "\n",
    "            os.remove(current_tile)\n",
    "\n",
    "    return map_img"
   ]
  },
  {
   "cell_type": "code",
   "execution_count": 16,
   "id": "exotic-pulse",
   "metadata": {},
   "outputs": [],
   "source": [
    "import ee"
   ]
  },
  {
   "cell_type": "code",
   "execution_count": 17,
   "id": "supreme-branch",
   "metadata": {},
   "outputs": [
    {
     "ename": "EEException",
     "evalue": "Earth Engine client library not initialized. Run `ee.Initialize()`",
     "output_type": "error",
     "traceback": [
      "\u001b[1;31m---------------------------------------------------------------------------\u001b[0m",
      "\u001b[1;31mEEException\u001b[0m                               Traceback (most recent call last)",
      "\u001b[1;32m<ipython-input-17-51ecf31ec1f4>\u001b[0m in \u001b[0;36m<module>\u001b[1;34m\u001b[0m\n\u001b[1;32m----> 1\u001b[1;33m \u001b[0mee\u001b[0m\u001b[1;33m.\u001b[0m\u001b[0mImageCollection\u001b[0m\u001b[1;33m(\u001b[0m\u001b[1;34m'SKYSAT/GEN-A/PUBLIC/ORTHO/RGB'\u001b[0m\u001b[1;33m)\u001b[0m\u001b[1;33m.\u001b[0m\u001b[0mfilterDate\u001b[0m\u001b[1;33m(\u001b[0m\u001b[1;34m'2018-01-01'\u001b[0m\u001b[1;33m,\u001b[0m \u001b[1;34m'2019-01-01'\u001b[0m\u001b[1;33m)\u001b[0m\u001b[1;33m;\u001b[0m\u001b[1;33m\u001b[0m\u001b[1;33m\u001b[0m\u001b[0m\n\u001b[0m",
      "\u001b[1;32mc:\\users\\kunal\\appdata\\local\\programs\\python\\python38\\lib\\site-packages\\ee\\computedobject.py\u001b[0m in \u001b[0;36m__call__\u001b[1;34m(cls, *args, **kwargs)\u001b[0m\n\u001b[0;32m     30\u001b[0m       \u001b[1;32mreturn\u001b[0m \u001b[0margs\u001b[0m\u001b[1;33m[\u001b[0m\u001b[1;36m0\u001b[0m\u001b[1;33m]\u001b[0m\u001b[1;33m\u001b[0m\u001b[1;33m\u001b[0m\u001b[0m\n\u001b[0;32m     31\u001b[0m     \u001b[1;32melse\u001b[0m\u001b[1;33m:\u001b[0m\u001b[1;33m\u001b[0m\u001b[1;33m\u001b[0m\u001b[0m\n\u001b[1;32m---> 32\u001b[1;33m       \u001b[1;32mreturn\u001b[0m \u001b[0mtype\u001b[0m\u001b[1;33m.\u001b[0m\u001b[0m__call__\u001b[0m\u001b[1;33m(\u001b[0m\u001b[0mcls\u001b[0m\u001b[1;33m,\u001b[0m \u001b[1;33m*\u001b[0m\u001b[0margs\u001b[0m\u001b[1;33m,\u001b[0m \u001b[1;33m**\u001b[0m\u001b[0mkwargs\u001b[0m\u001b[1;33m)\u001b[0m\u001b[1;33m\u001b[0m\u001b[1;33m\u001b[0m\u001b[0m\n\u001b[0m\u001b[0;32m     33\u001b[0m \u001b[1;33m\u001b[0m\u001b[0m\n\u001b[0;32m     34\u001b[0m \u001b[1;33m\u001b[0m\u001b[0m\n",
      "\u001b[1;32mc:\\users\\kunal\\appdata\\local\\programs\\python\\python38\\lib\\site-packages\\ee\\imagecollection.py\u001b[0m in \u001b[0;36m__init__\u001b[1;34m(self, args)\u001b[0m\n\u001b[0;32m     36\u001b[0m       \u001b[0mEEException\u001b[0m\u001b[1;33m:\u001b[0m \u001b[1;32mif\u001b[0m \u001b[0mpassed\u001b[0m \u001b[0msomething\u001b[0m \u001b[0mother\u001b[0m \u001b[0mthan\u001b[0m \u001b[0mthe\u001b[0m \u001b[0mabove\u001b[0m\u001b[1;33m.\u001b[0m\u001b[1;33m\u001b[0m\u001b[1;33m\u001b[0m\u001b[0m\n\u001b[0;32m     37\u001b[0m     \"\"\"\n\u001b[1;32m---> 38\u001b[1;33m     \u001b[0mself\u001b[0m\u001b[1;33m.\u001b[0m\u001b[0minitialize\u001b[0m\u001b[1;33m(\u001b[0m\u001b[1;33m)\u001b[0m\u001b[1;33m\u001b[0m\u001b[1;33m\u001b[0m\u001b[0m\n\u001b[0m\u001b[0;32m     39\u001b[0m \u001b[1;33m\u001b[0m\u001b[0m\n\u001b[0;32m     40\u001b[0m     \u001b[1;31m# Wrap single images in an array.\u001b[0m\u001b[1;33m\u001b[0m\u001b[1;33m\u001b[0m\u001b[1;33m\u001b[0m\u001b[0m\n",
      "\u001b[1;32mc:\\users\\kunal\\appdata\\local\\programs\\python\\python38\\lib\\site-packages\\ee\\imagecollection.py\u001b[0m in \u001b[0;36minitialize\u001b[1;34m(cls)\u001b[0m\n\u001b[0;32m     70\u001b[0m     \u001b[1;34m\"\"\"Imports API functions to this class.\"\"\"\u001b[0m\u001b[1;33m\u001b[0m\u001b[1;33m\u001b[0m\u001b[0m\n\u001b[0;32m     71\u001b[0m     \u001b[1;32mif\u001b[0m \u001b[1;32mnot\u001b[0m \u001b[0mcls\u001b[0m\u001b[1;33m.\u001b[0m\u001b[0m_initialized\u001b[0m\u001b[1;33m:\u001b[0m\u001b[1;33m\u001b[0m\u001b[1;33m\u001b[0m\u001b[0m\n\u001b[1;32m---> 72\u001b[1;33m       \u001b[0msuper\u001b[0m\u001b[1;33m(\u001b[0m\u001b[0mImageCollection\u001b[0m\u001b[1;33m,\u001b[0m \u001b[0mcls\u001b[0m\u001b[1;33m)\u001b[0m\u001b[1;33m.\u001b[0m\u001b[0minitialize\u001b[0m\u001b[1;33m(\u001b[0m\u001b[1;33m)\u001b[0m\u001b[1;33m\u001b[0m\u001b[1;33m\u001b[0m\u001b[0m\n\u001b[0m\u001b[0;32m     73\u001b[0m       apifunction.ApiFunction.importApi(\n\u001b[0;32m     74\u001b[0m           cls, 'ImageCollection', 'ImageCollection')\n",
      "\u001b[1;32mc:\\users\\kunal\\appdata\\local\\programs\\python\\python38\\lib\\site-packages\\ee\\collection.py\u001b[0m in \u001b[0;36minitialize\u001b[1;34m(cls)\u001b[0m\n\u001b[0;32m     30\u001b[0m     \u001b[1;34m\"\"\"Imports API functions to this class.\"\"\"\u001b[0m\u001b[1;33m\u001b[0m\u001b[1;33m\u001b[0m\u001b[0m\n\u001b[0;32m     31\u001b[0m     \u001b[1;32mif\u001b[0m \u001b[1;32mnot\u001b[0m \u001b[0mcls\u001b[0m\u001b[1;33m.\u001b[0m\u001b[0m_initialized\u001b[0m\u001b[1;33m:\u001b[0m\u001b[1;33m\u001b[0m\u001b[1;33m\u001b[0m\u001b[0m\n\u001b[1;32m---> 32\u001b[1;33m       \u001b[0mapifunction\u001b[0m\u001b[1;33m.\u001b[0m\u001b[0mApiFunction\u001b[0m\u001b[1;33m.\u001b[0m\u001b[0mimportApi\u001b[0m\u001b[1;33m(\u001b[0m\u001b[0mcls\u001b[0m\u001b[1;33m,\u001b[0m \u001b[1;34m'Collection'\u001b[0m\u001b[1;33m,\u001b[0m \u001b[1;34m'Collection'\u001b[0m\u001b[1;33m)\u001b[0m\u001b[1;33m\u001b[0m\u001b[1;33m\u001b[0m\u001b[0m\n\u001b[0m\u001b[0;32m     33\u001b[0m       apifunction.ApiFunction.importApi(\n\u001b[0;32m     34\u001b[0m           cls, 'AggregateFeatureCollection', 'Collection', 'aggregate_')\n",
      "\u001b[1;32mc:\\users\\kunal\\appdata\\local\\programs\\python\\python38\\lib\\site-packages\\ee\\apifunction.py\u001b[0m in \u001b[0;36mimportApi\u001b[1;34m(cls, target, prefix, type_name, opt_prepend)\u001b[0m\n\u001b[0;32m    181\u001b[0m           \u001b[0madded\u001b[0m \u001b[0mfunctions\u001b[0m\u001b[1;33m.\u001b[0m\u001b[1;33m\u001b[0m\u001b[1;33m\u001b[0m\u001b[0m\n\u001b[0;32m    182\u001b[0m     \"\"\"\n\u001b[1;32m--> 183\u001b[1;33m     \u001b[0mcls\u001b[0m\u001b[1;33m.\u001b[0m\u001b[0minitialize\u001b[0m\u001b[1;33m(\u001b[0m\u001b[1;33m)\u001b[0m\u001b[1;33m\u001b[0m\u001b[1;33m\u001b[0m\u001b[0m\n\u001b[0m\u001b[0;32m    184\u001b[0m     \u001b[0mprepend\u001b[0m \u001b[1;33m=\u001b[0m \u001b[0mopt_prepend\u001b[0m \u001b[1;32mor\u001b[0m \u001b[1;34m''\u001b[0m\u001b[1;33m\u001b[0m\u001b[1;33m\u001b[0m\u001b[0m\n\u001b[0;32m    185\u001b[0m     \u001b[1;32mfor\u001b[0m \u001b[0mname\u001b[0m\u001b[1;33m,\u001b[0m \u001b[0mapi_func\u001b[0m \u001b[1;32min\u001b[0m \u001b[0mcls\u001b[0m\u001b[1;33m.\u001b[0m\u001b[0m_api\u001b[0m\u001b[1;33m.\u001b[0m\u001b[0mitems\u001b[0m\u001b[1;33m(\u001b[0m\u001b[1;33m)\u001b[0m\u001b[1;33m:\u001b[0m\u001b[1;33m\u001b[0m\u001b[1;33m\u001b[0m\u001b[0m\n",
      "\u001b[1;32mc:\\users\\kunal\\appdata\\local\\programs\\python\\python38\\lib\\site-packages\\ee\\apifunction.py\u001b[0m in \u001b[0;36minitialize\u001b[1;34m(cls)\u001b[0m\n\u001b[0;32m    152\u001b[0m     \u001b[1;34m\"\"\"Initializes the list of signatures from the Earth Engine front-end.\"\"\"\u001b[0m\u001b[1;33m\u001b[0m\u001b[1;33m\u001b[0m\u001b[0m\n\u001b[0;32m    153\u001b[0m     \u001b[1;32mif\u001b[0m \u001b[1;32mnot\u001b[0m \u001b[0mcls\u001b[0m\u001b[1;33m.\u001b[0m\u001b[0m_api\u001b[0m\u001b[1;33m:\u001b[0m\u001b[1;33m\u001b[0m\u001b[1;33m\u001b[0m\u001b[0m\n\u001b[1;32m--> 154\u001b[1;33m       \u001b[0msignatures\u001b[0m \u001b[1;33m=\u001b[0m \u001b[0mdata\u001b[0m\u001b[1;33m.\u001b[0m\u001b[0mgetAlgorithms\u001b[0m\u001b[1;33m(\u001b[0m\u001b[1;33m)\u001b[0m\u001b[1;33m\u001b[0m\u001b[1;33m\u001b[0m\u001b[0m\n\u001b[0m\u001b[0;32m    155\u001b[0m       \u001b[0mapi\u001b[0m \u001b[1;33m=\u001b[0m \u001b[1;33m{\u001b[0m\u001b[1;33m}\u001b[0m\u001b[1;33m\u001b[0m\u001b[1;33m\u001b[0m\u001b[0m\n\u001b[0;32m    156\u001b[0m       \u001b[1;32mfor\u001b[0m \u001b[0mname\u001b[0m\u001b[1;33m,\u001b[0m \u001b[0msig\u001b[0m \u001b[1;32min\u001b[0m \u001b[0msignatures\u001b[0m\u001b[1;33m.\u001b[0m\u001b[0mitems\u001b[0m\u001b[1;33m(\u001b[0m\u001b[1;33m)\u001b[0m\u001b[1;33m:\u001b[0m\u001b[1;33m\u001b[0m\u001b[1;33m\u001b[0m\u001b[0m\n",
      "\u001b[1;32mc:\\users\\kunal\\appdata\\local\\programs\\python\\python38\\lib\\site-packages\\ee\\data.py\u001b[0m in \u001b[0;36mgetAlgorithms\u001b[1;34m()\u001b[0m\n\u001b[0;32m    979\u001b[0m   \"\"\"\n\u001b[0;32m    980\u001b[0m   \u001b[1;32mtry\u001b[0m\u001b[1;33m:\u001b[0m\u001b[1;33m\u001b[0m\u001b[1;33m\u001b[0m\u001b[0m\n\u001b[1;32m--> 981\u001b[1;33m     call = _get_cloud_api_resource().projects().algorithms().list(\n\u001b[0m\u001b[0;32m    982\u001b[0m         parent=_get_projects_path(), prettyPrint=False)\n\u001b[0;32m    983\u001b[0m   \u001b[1;32mexcept\u001b[0m \u001b[0mTypeError\u001b[0m\u001b[1;33m:\u001b[0m\u001b[1;33m\u001b[0m\u001b[1;33m\u001b[0m\u001b[0m\n",
      "\u001b[1;32mc:\\users\\kunal\\appdata\\local\\programs\\python\\python38\\lib\\site-packages\\ee\\data.py\u001b[0m in \u001b[0;36m_get_cloud_api_resource\u001b[1;34m()\u001b[0m\n\u001b[0;32m    286\u001b[0m \u001b[1;32mdef\u001b[0m \u001b[0m_get_cloud_api_resource\u001b[0m\u001b[1;33m(\u001b[0m\u001b[1;33m)\u001b[0m\u001b[1;33m:\u001b[0m\u001b[1;33m\u001b[0m\u001b[1;33m\u001b[0m\u001b[0m\n\u001b[0;32m    287\u001b[0m   \u001b[1;32mif\u001b[0m \u001b[0m_cloud_api_resource\u001b[0m \u001b[1;32mis\u001b[0m \u001b[1;32mNone\u001b[0m\u001b[1;33m:\u001b[0m\u001b[1;33m\u001b[0m\u001b[1;33m\u001b[0m\u001b[0m\n\u001b[1;32m--> 288\u001b[1;33m     raise ee_exception.EEException(\n\u001b[0m\u001b[0;32m    289\u001b[0m         'Earth Engine client library not initialized. Run `ee.Initialize()`')\n\u001b[0;32m    290\u001b[0m   \u001b[1;32mreturn\u001b[0m \u001b[0m_cloud_api_resource\u001b[0m\u001b[1;33m\u001b[0m\u001b[1;33m\u001b[0m\u001b[0m\n",
      "\u001b[1;31mEEException\u001b[0m: Earth Engine client library not initialized. Run `ee.Initialize()`"
     ]
    }
   ],
   "source": [
    "ee.ImageCollection('SKYSAT/GEN-A/PUBLIC/ORTHO/RGB').filterDate('2018-01-01', '2019-01-01');"
   ]
  },
  {
   "cell_type": "code",
   "execution_count": null,
   "id": "australian-nashville",
   "metadata": {},
   "outputs": [],
   "source": []
  },
  {
   "cell_type": "code",
   "execution_count": 33,
   "id": "wanted-lighter",
   "metadata": {},
   "outputs": [],
   "source": [
    "# Import earthengine API\n",
    "import ee\n",
    "import pprint"
   ]
  },
  {
   "cell_type": "code",
   "execution_count": 19,
   "id": "fatal-trick",
   "metadata": {},
   "outputs": [],
   "source": [
    "# Initialise\n",
    "ee.Initialize()\n",
    "\n",
    "# Configure the pretty printing output & initialize earthengine.\n",
    "pp = pprint.PrettyPrinter(depth=4)"
   ]
  },
  {
   "cell_type": "code",
   "execution_count": 40,
   "id": "stuffed-renewal",
   "metadata": {},
   "outputs": [
    {
     "name": "stdout",
     "output_type": "stream",
     "text": [
      "Count:  220\n"
     ]
    }
   ],
   "source": [
    "# Load a Landsat 8 ImageCollection for a single path-row.\n",
    "collection = (ee.ImageCollection('SKYSAT/GEN-A/PUBLIC/ORTHO/RGB').filterDate('2016-03-01', '2018-03-01'))\n",
    "#pp.pprint('Collection: '+str(collection.getInfo())+'\\n')\n",
    "\n",
    "# Get the number of images.\n",
    "count = collection.size()\n",
    "print('Count: ', str(count.getInfo()))"
   ]
  },
  {
   "cell_type": "code",
   "execution_count": 26,
   "id": "sound-condition",
   "metadata": {},
   "outputs": [
    {
     "name": "stdout",
     "output_type": "stream",
     "text": [
      "Date range:  {'type': 'Date', 'value': 1456905747000} {'type': 'Date', 'value': 1483751094000}\n",
      "\n",
      "(\"Sun elevation statistics: {'max': None, 'mean': 0, 'min': None, 'sample_sd': \"\n",
      " \"0, 'sample_var': 0, 'sum': 0, 'sum_sq': 0, 'total_count': 0, 'total_sd': 0, \"\n",
      " \"'total_var': 0, 'valid_count': 0, 'weight_sum': 0, 'weighted_sum': 0}\\n\")\n"
     ]
    }
   ],
   "source": [
    "# Get the date range of images in the collection.\n",
    "range = collection.reduceColumns(ee.Reducer.minMax(), [\"system:time_start\"])\n",
    "print('Date range: ', str(ee.Date(range.get('min')).getInfo()), str(ee.Date(range.get('max')).getInfo())+'\\n')\n",
    "\n",
    "# Get statistics for a property of the images in the collection.\n",
    "sunStats = collection.aggregate_stats('SUN_ELEVATION')\n",
    "pp.pprint('Sun elevation statistics: '+str(sunStats.getInfo())+'\\n')"
   ]
  },
  {
   "cell_type": "code",
   "execution_count": 53,
   "id": "important-macintosh",
   "metadata": {},
   "outputs": [
    {
     "name": "stdout",
     "output_type": "stream",
     "text": [
      "Least cloudy image:  {'type': 'Image', 'bands': [{'id': 'R', 'data_type': {'type': 'PixelType', 'precision': 'int', 'min': 0, 'max': 255}, 'dimensions': [13440, 26880], 'crs': 'PROJCS[\"UTM Zone 37, Northern Hemisphere\", \\n  GEOGCS[\"WGS 84\", \\n    DATUM[\"WGS_1984\", \\n      SPHEROID[\"WGS 84\", 6378137.0, 298.257223563, AUTHORITY[\"EPSG\",\"7030\"]], \\n      TOWGS84[0.0, 0.0, 0.0, 0.0, 0.0, 0.0, 0.0], \\n      AUTHORITY[\"EPSG\",\"6326\"]], \\n    PRIMEM[\"Greenwich\", 0.0, AUTHORITY[\"EPSG\",\"8901\"]], \\n    UNIT[\"degree\", 0.017453292519943295], \\n    AXIS[\"Longitude\", EAST], \\n    AXIS[\"Latitude\", NORTH], \\n    AUTHORITY[\"EPSG\",\"4326\"]], \\n  PROJECTION[\"Transverse_Mercator\"], \\n  PARAMETER[\"central_meridian\", 39.0], \\n  PARAMETER[\"latitude_of_origin\", 0.0], \\n  PARAMETER[\"scale_factor\", 0.9996], \\n  PARAMETER[\"false_easting\", 500000.0], \\n  PARAMETER[\"false_northing\", 0.0], \\n  UNIT[\"m\", 1.0], \\n  AXIS[\"x\", EAST], \\n  AXIS[\"y\", NORTH]]', 'crs_transform': [0.8, 0, 375909.6, 0, -0.8, 255889.6]}, {'id': 'G', 'data_type': {'type': 'PixelType', 'precision': 'int', 'min': 0, 'max': 255}, 'dimensions': [13440, 26880], 'crs': 'PROJCS[\"UTM Zone 37, Northern Hemisphere\", \\n  GEOGCS[\"WGS 84\", \\n    DATUM[\"WGS_1984\", \\n      SPHEROID[\"WGS 84\", 6378137.0, 298.257223563, AUTHORITY[\"EPSG\",\"7030\"]], \\n      TOWGS84[0.0, 0.0, 0.0, 0.0, 0.0, 0.0, 0.0], \\n      AUTHORITY[\"EPSG\",\"6326\"]], \\n    PRIMEM[\"Greenwich\", 0.0, AUTHORITY[\"EPSG\",\"8901\"]], \\n    UNIT[\"degree\", 0.017453292519943295], \\n    AXIS[\"Longitude\", EAST], \\n    AXIS[\"Latitude\", NORTH], \\n    AUTHORITY[\"EPSG\",\"4326\"]], \\n  PROJECTION[\"Transverse_Mercator\"], \\n  PARAMETER[\"central_meridian\", 39.0], \\n  PARAMETER[\"latitude_of_origin\", 0.0], \\n  PARAMETER[\"scale_factor\", 0.9996], \\n  PARAMETER[\"false_easting\", 500000.0], \\n  PARAMETER[\"false_northing\", 0.0], \\n  UNIT[\"m\", 1.0], \\n  AXIS[\"x\", EAST], \\n  AXIS[\"y\", NORTH]]', 'crs_transform': [0.8, 0, 375909.6, 0, -0.8, 255889.6]}, {'id': 'B', 'data_type': {'type': 'PixelType', 'precision': 'int', 'min': 0, 'max': 255}, 'dimensions': [13440, 26880], 'crs': 'PROJCS[\"UTM Zone 37, Northern Hemisphere\", \\n  GEOGCS[\"WGS 84\", \\n    DATUM[\"WGS_1984\", \\n      SPHEROID[\"WGS 84\", 6378137.0, 298.257223563, AUTHORITY[\"EPSG\",\"7030\"]], \\n      TOWGS84[0.0, 0.0, 0.0, 0.0, 0.0, 0.0, 0.0], \\n      AUTHORITY[\"EPSG\",\"6326\"]], \\n    PRIMEM[\"Greenwich\", 0.0, AUTHORITY[\"EPSG\",\"8901\"]], \\n    UNIT[\"degree\", 0.017453292519943295], \\n    AXIS[\"Longitude\", EAST], \\n    AXIS[\"Latitude\", NORTH], \\n    AUTHORITY[\"EPSG\",\"4326\"]], \\n  PROJECTION[\"Transverse_Mercator\"], \\n  PARAMETER[\"central_meridian\", 39.0], \\n  PARAMETER[\"latitude_of_origin\", 0.0], \\n  PARAMETER[\"scale_factor\", 0.9996], \\n  PARAMETER[\"false_easting\", 500000.0], \\n  PARAMETER[\"false_northing\", 0.0], \\n  UNIT[\"m\", 1.0], \\n  AXIS[\"x\", EAST], \\n  AXIS[\"y\", NORTH]]', 'crs_transform': [0.8, 0, 375909.6, 0, -0.8, 255889.6]}], 'id': 'SKYSAT/GEN-A/PUBLIC/ORTHO/RGB/s01_20160302T081654Z', 'version': 1494278864528000.0, 'properties': {'resamplingMethod': 'bilinear', 'satelliteAzimuthAngleMin': 74.81470491, 'satelliteElevationAngleMax': 65.2199776, 'channelScaleOfLinearImages': 16, 'satelliteElevationAngleMin': 63.32207115, 'system:footprint': {'type': 'LinearRing', 'coordinates': [[37.91329113061665, 2.31364726142297], [37.913284254880374, 2.313641578710183], [37.913714108408506, 2.2778702463120855], [37.885170890250905, 2.2762274092709665], [37.88361397281091, 2.125471503151233], [37.883619799481785, 2.125464206827093], [37.91492462423758, 2.126470835453099], [37.91493158069847, 2.12647632309706], [37.91525173891392, 2.162074662752237], [37.93819755816971, 2.162900945109358], [37.93822222095817, 2.1270732655526183], [37.938228042992165, 2.127066033412565], [37.969367623908006, 2.1280717099478945], [37.97317646615387, 2.2804543964513746], [37.97317056627386, 2.280461850497018], [37.945783089552116, 2.279226446495121], [37.94558435343486, 2.3148286143719905], [37.9428722511812, 2.315232804059671], [37.91329113061665, 2.31364726142297]]}, 'productionID': 'skysat_pipeline1:08011208DA1F13A6E0F050C9__1456979853169042051', 'collectionEndTime': '2016-03-02T08:17:00Z', 'satelliteAzimuthAngleMean': 77.55636184, 'productType': 'OrthorectifiedImagery', 'satelliteName': 'SkySat-1', 'productionSystemVersion': 'singer_v156.1_rc1', 'snaptoAlignmentConfidence': 1, 'system:time_end': 1456906620000, 'solarElevationAngle': 67.25891876, 'snaptoReferenceAssets': '62545759dd094c9a', 'system:time_start': 1456906614000, 'terrainBlendEpoch': 188, 'collectionType': 'POINT', 'satelliteAzimuthAngleMax': 80.51351739, 'catalogID': 's01_20160302T081654Z', 'collectionStartTime': '2016-03-02T08:16:54Z', 'satelliteElevationAngleMean': 64.30857029, 'system:asset_size': 454457763, 'solarAzimuthAngle': 114.03768921, 'system:index': 's01_20160302T081654Z'}}\n",
      "\n"
     ]
    }
   ],
   "source": [
    "# Sort by a cloud cover property, get the least cloudy image.\n",
    "image = ee.Image(collection.sort('CLOUD_COVER').first())\n",
    "print('Least cloudy image: ', str(image.getInfo())+'\\n')\n",
    "\n",
    "# Limit the collection to the 10 most recent images.\n",
    "recent = collection.sort('system:time_start', False).limit(10)\n",
    "#pp.pprint('Recent images: '+str(recent.getInfo())+'\\n')"
   ]
  },
  {
   "cell_type": "code",
   "execution_count": 55,
   "id": "interpreted-correspondence",
   "metadata": {},
   "outputs": [
    {
     "data": {
      "text/plain": [
       "<ee.image.Image at 0x23d6cf5dc70>"
      ]
     },
     "metadata": {},
     "output_type": "display_data"
    }
   ],
   "source": [
    "display(image)"
   ]
  },
  {
   "cell_type": "code",
   "execution_count": null,
   "id": "determined-playback",
   "metadata": {},
   "outputs": [],
   "source": []
  },
  {
   "cell_type": "code",
   "execution_count": 28,
   "id": "major-sally",
   "metadata": {},
   "outputs": [
    {
     "name": "stdout",
     "output_type": "stream",
     "text": [
      "Total size of Collection with 10 most recent images : 5033610234\n"
     ]
    }
   ],
   "source": [
    "# Get size of collection in bytes\n",
    "print('Total size of Collection with 10 most recent images : '+str((recent.reduceColumns(ee.Reducer.sum(), ['system:asset_size']).getInfo()['sum'])))"
   ]
  },
  {
   "cell_type": "code",
   "execution_count": 30,
   "id": "voluntary-tension",
   "metadata": {},
   "outputs": [
    {
     "data": {
      "text/plain": [
       "<ee.image.Image at 0x23d6c0ef5e0>"
      ]
     },
     "execution_count": 30,
     "metadata": {},
     "output_type": "execute_result"
    }
   ],
   "source": []
  },
  {
   "cell_type": "code",
   "execution_count": 32,
   "id": "forty-magic",
   "metadata": {},
   "outputs": [
    {
     "ename": "TypeError",
     "evalue": "toDrive() got multiple values for argument 'description'",
     "output_type": "error",
     "traceback": [
      "\u001b[1;31m---------------------------------------------------------------------------\u001b[0m",
      "\u001b[1;31mTypeError\u001b[0m                                 Traceback (most recent call last)",
      "\u001b[1;32m<ipython-input-32-98f35ea88def>\u001b[0m in \u001b[0;36m<module>\u001b[1;34m\u001b[0m\n\u001b[0;32m     12\u001b[0m     }\n\u001b[0;32m     13\u001b[0m \u001b[1;33m\u001b[0m\u001b[0m\n\u001b[1;32m---> 14\u001b[1;33m \u001b[0mtask\u001b[0m \u001b[1;33m=\u001b[0m \u001b[0mee\u001b[0m\u001b[1;33m.\u001b[0m\u001b[0mbatch\u001b[0m\u001b[1;33m.\u001b[0m\u001b[0mExport\u001b[0m\u001b[1;33m.\u001b[0m\u001b[0mimage\u001b[0m\u001b[1;33m(\u001b[0m\u001b[0mcollection\u001b[0m\u001b[1;33m.\u001b[0m\u001b[0mtoBands\u001b[0m\u001b[1;33m(\u001b[0m\u001b[1;33m)\u001b[0m\u001b[1;33m,\u001b[0m \u001b[1;34m'exportExample'\u001b[0m\u001b[1;33m,\u001b[0m \u001b[0mtask_config\u001b[0m\u001b[1;33m)\u001b[0m\u001b[1;33m\u001b[0m\u001b[1;33m\u001b[0m\u001b[0m\n\u001b[0m\u001b[0;32m     15\u001b[0m \u001b[1;33m\u001b[0m\u001b[0m\n\u001b[0;32m     16\u001b[0m \u001b[0mtask\u001b[0m\u001b[1;33m.\u001b[0m\u001b[0mstart\u001b[0m\u001b[1;33m(\u001b[0m\u001b[1;33m)\u001b[0m\u001b[1;33m\u001b[0m\u001b[1;33m\u001b[0m\u001b[0m\n",
      "\u001b[1;32mc:\\users\\kunal\\appdata\\local\\programs\\python\\python38\\lib\\site-packages\\ee\\batch.py\u001b[0m in \u001b[0;36m__new__\u001b[1;34m(cls, image, description, config)\u001b[0m\n\u001b[0;32m    220\u001b[0m \u001b[1;33m\u001b[0m\u001b[0m\n\u001b[0;32m    221\u001b[0m       \u001b[1;32mif\u001b[0m \u001b[1;34m'driveFileNamePrefix'\u001b[0m \u001b[1;32min\u001b[0m \u001b[0mconfig\u001b[0m\u001b[1;33m:\u001b[0m\u001b[1;33m\u001b[0m\u001b[1;33m\u001b[0m\u001b[0m\n\u001b[1;32m--> 222\u001b[1;33m         \u001b[1;32mreturn\u001b[0m \u001b[0mExport\u001b[0m\u001b[1;33m.\u001b[0m\u001b[0mimage\u001b[0m\u001b[1;33m.\u001b[0m\u001b[0mtoDrive\u001b[0m\u001b[1;33m(\u001b[0m\u001b[0mimage\u001b[0m\u001b[1;33m,\u001b[0m \u001b[0mdescription\u001b[0m\u001b[1;33m,\u001b[0m \u001b[1;33m**\u001b[0m\u001b[0mconfig\u001b[0m\u001b[1;33m)\u001b[0m\u001b[1;33m\u001b[0m\u001b[1;33m\u001b[0m\u001b[0m\n\u001b[0m\u001b[0;32m    223\u001b[0m       \u001b[1;32melse\u001b[0m\u001b[1;33m:\u001b[0m\u001b[1;33m\u001b[0m\u001b[1;33m\u001b[0m\u001b[0m\n\u001b[0;32m    224\u001b[0m         \u001b[1;32mreturn\u001b[0m \u001b[0mExport\u001b[0m\u001b[1;33m.\u001b[0m\u001b[0mimage\u001b[0m\u001b[1;33m.\u001b[0m\u001b[0mtoCloudStorage\u001b[0m\u001b[1;33m(\u001b[0m\u001b[0mimage\u001b[0m\u001b[1;33m,\u001b[0m \u001b[0mdescription\u001b[0m\u001b[1;33m,\u001b[0m \u001b[1;33m**\u001b[0m\u001b[0mconfig\u001b[0m\u001b[1;33m)\u001b[0m\u001b[1;33m\u001b[0m\u001b[1;33m\u001b[0m\u001b[0m\n",
      "\u001b[1;31mTypeError\u001b[0m: toDrive() got multiple values for argument 'description'"
     ]
    }
   ],
   "source": [
    "geometry = ee.Geometry.Rectangle([116.2621, 39.8412, 116.4849, 40.01236])\n",
    "llx = 116.2621\n",
    "lly = 39.8412\n",
    "urx = 116.4849\n",
    "ury = 40.01236\n",
    "geometry = [[llx,lly], [llx,ury], [urx,ury], [urx,lly]]\n",
    "\n",
    "task_config = {\n",
    "    'description': 'imageToDriveExample',\n",
    "    'scale': 30,  \n",
    "    'region': geometry\n",
    "    }\n",
    "\n",
    "task = ee.batch.Export.image(collection.toBands(), 'exportExample', task_config)\n",
    "\n",
    "task.start()"
   ]
  },
  {
   "cell_type": "code",
   "execution_count": 36,
   "id": "based-manner",
   "metadata": {
    "scrolled": true
   },
   "outputs": [
    {
     "ename": "AttributeError",
     "evalue": "module 'geetools.batch' has no attribute 'ImageCollection'",
     "output_type": "error",
     "traceback": [
      "\u001b[1;31m---------------------------------------------------------------------------\u001b[0m",
      "\u001b[1;31mAttributeError\u001b[0m                            Traceback (most recent call last)",
      "\u001b[1;32m<ipython-input-36-9995ad556128>\u001b[0m in \u001b[0;36m<module>\u001b[1;34m\u001b[0m\n\u001b[0;32m      5\u001b[0m \u001b[1;33m\u001b[0m\u001b[0m\n\u001b[0;32m      6\u001b[0m \u001b[0mcollection\u001b[0m \u001b[1;33m=\u001b[0m \u001b[0mee\u001b[0m\u001b[1;33m.\u001b[0m\u001b[0mImageCollection\u001b[0m\u001b[1;33m(\u001b[0m\u001b[1;34m'SKYSAT/GEN-A/PUBLIC/ORTHO/RGB'\u001b[0m\u001b[1;33m)\u001b[0m\u001b[1;33m.\u001b[0m\u001b[0mfilterDate\u001b[0m\u001b[1;33m(\u001b[0m\u001b[1;34m'2018-01-01'\u001b[0m\u001b[1;33m,\u001b[0m \u001b[1;34m'2019-01-01'\u001b[0m\u001b[1;33m)\u001b[0m\u001b[1;33m\u001b[0m\u001b[1;33m\u001b[0m\u001b[0m\n\u001b[1;32m----> 7\u001b[1;33m \u001b[0mtasks\u001b[0m \u001b[1;33m=\u001b[0m \u001b[0mbatch\u001b[0m\u001b[1;33m.\u001b[0m\u001b[0mImageCollection\u001b[0m\u001b[1;33m.\u001b[0m\u001b[0mtoDrive\u001b[0m\u001b[1;33m(\u001b[0m\u001b[0mreference\u001b[0m\u001b[1;33m,\u001b[0m \u001b[1;34m'MyFolder'\u001b[0m\u001b[1;33m,\u001b[0m \u001b[0mscale\u001b[0m\u001b[1;33m=\u001b[0m\u001b[1;36m5000\u001b[0m\u001b[1;33m)\u001b[0m\u001b[1;33m\u001b[0m\u001b[1;33m\u001b[0m\u001b[0m\n\u001b[0m",
      "\u001b[1;31mAttributeError\u001b[0m: module 'geetools.batch' has no attribute 'ImageCollection'"
     ]
    }
   ],
   "source": [
    "from geetools import batch\n",
    "import ee\n",
    "\n",
    "ee.Initialize()\n",
    "\n",
    "collection = ee.ImageCollection('SKYSAT/GEN-A/PUBLIC/ORTHO/RGB').filterDate('2018-01-01', '2019-01-01')\n",
    "tasks = batch.ImageCollection.toDrive(reference, 'MyFolder', scale=5000)"
   ]
  },
  {
   "cell_type": "code",
   "execution_count": 41,
   "id": "artificial-generation",
   "metadata": {},
   "outputs": [
    {
     "name": "stdout",
     "output_type": "stream",
     "text": [
      "exporting s01_20160302T081654Z to folder 'Dataset' in GDrive\n",
      "exporting s01_20160302T081735Z to folder 'Dataset' in GDrive\n",
      "exporting s01_20160302T081910Z to folder 'Dataset' in GDrive\n",
      "exporting s01_20160302T081954Z to folder 'Dataset' in GDrive\n",
      "exporting s01_20160303T144544Z to folder 'Dataset' in GDrive\n",
      "exporting s01_20160304T082423Z to folder 'Dataset' in GDrive\n",
      "exporting s01_20160306T083026Z to folder 'Dataset' in GDrive\n",
      "exporting s01_20160307T020720Z to folder 'Dataset' in GDrive\n",
      "exporting s01_20160307T145511Z to folder 'Dataset' in GDrive\n",
      "exporting s01_20160307T145551Z to folder 'Dataset' in GDrive\n",
      "exporting s01_20160308T082955Z to folder 'Dataset' in GDrive\n",
      "exporting s01_20160308T083333Z to folder 'Dataset' in GDrive\n",
      "exporting s01_20160309T212126Z to folder 'Dataset' in GDrive\n",
      "exporting s01_20160310T212911Z to folder 'Dataset' in GDrive\n",
      "exporting s01_20160314T213956Z to folder 'Dataset' in GDrive\n",
      "exporting s01_20160326T104737Z to folder 'Dataset' in GDrive\n",
      "exporting s01_20160328T074345Z to folder 'Dataset' in GDrive\n",
      "exporting s01_20160328T075246Z to folder 'Dataset' in GDrive\n",
      "exporting s01_20160403T032250Z to folder 'Dataset' in GDrive\n",
      "exporting s01_20160403T080022Z to folder 'Dataset' in GDrive\n",
      "exporting s01_20160404T032535Z to folder 'Dataset' in GDrive\n",
      "exporting s01_20160404T080315Z to folder 'Dataset' in GDrive\n",
      "exporting s01_20160411T180417Z to folder 'Dataset' in GDrive\n",
      "exporting s01_20160414T212929Z to folder 'Dataset' in GDrive\n",
      "exporting s01_20160417T213714Z to folder 'Dataset' in GDrive\n",
      "exporting s01_20160420T005909Z to folder 'Dataset' in GDrive\n",
      "exporting s01_20160421T010144Z to folder 'Dataset' in GDrive\n",
      "exporting s01_20160422T010422Z to folder 'Dataset' in GDrive\n",
      "exporting s01_20160423T010702Z to folder 'Dataset' in GDrive\n",
      "exporting s01_20160502T075239Z to folder 'Dataset' in GDrive\n",
      "exporting s01_20160505T031426Z to folder 'Dataset' in GDrive\n",
      "exporting s01_20160505T110038Z to folder 'Dataset' in GDrive\n",
      "exporting s01_20160510T174659Z to folder 'Dataset' in GDrive\n",
      "exporting s01_20160517T180531Z to folder 'Dataset' in GDrive\n",
      "exporting s01_20160529T010740Z to folder 'Dataset' in GDrive\n",
      "exporting s01_20160529T010839Z to folder 'Dataset' in GDrive\n",
      "exporting s01_20160530T011020Z to folder 'Dataset' in GDrive\n",
      "exporting s01_20160530T011117Z to folder 'Dataset' in GDrive\n",
      "exporting s01_20160602T011856Z to folder 'Dataset' in GDrive\n",
      "exporting s01_20160703T010430Z to folder 'Dataset' in GDrive\n",
      "exporting s01_20160704T010705Z to folder 'Dataset' in GDrive\n",
      "exporting s01_20160707T011538Z to folder 'Dataset' in GDrive\n",
      "exporting s01_20160708T011831Z to folder 'Dataset' in GDrive\n",
      "exporting s01_20160731T212931Z to folder 'Dataset' in GDrive\n",
      "exporting s01_20160801T212642Z to folder 'Dataset' in GDrive\n",
      "exporting s01_20160801T213116Z to folder 'Dataset' in GDrive\n",
      "exporting s01_20160801T213216Z to folder 'Dataset' in GDrive\n",
      "exporting s01_20160803T213145Z to folder 'Dataset' in GDrive\n",
      "exporting s01_20160804T213421Z to folder 'Dataset' in GDrive\n",
      "exporting s01_20160805T213648Z to folder 'Dataset' in GDrive\n",
      "exporting s01_20160806T213922Z to folder 'Dataset' in GDrive\n",
      "exporting s01_20160808T010313Z to folder 'Dataset' in GDrive\n",
      "exporting s01_20160808T214417Z to folder 'Dataset' in GDrive\n",
      "exporting s01_20160811T011111Z to folder 'Dataset' in GDrive\n",
      "exporting s01_20160812T011331Z to folder 'Dataset' in GDrive\n",
      "exporting s01_20160830T001916Z to folder 'Dataset' in GDrive\n",
      "exporting s01_20160906T212403Z to folder 'Dataset' in GDrive\n",
      "exporting s01_20160906T212937Z to folder 'Dataset' in GDrive\n",
      "exporting s01_20160907T212649Z to folder 'Dataset' in GDrive\n",
      "exporting s01_20160907T213224Z to folder 'Dataset' in GDrive\n",
      "exporting s01_20160908T004213Z to folder 'Dataset' in GDrive\n",
      "exporting s01_20160909T213157Z to folder 'Dataset' in GDrive\n",
      "exporting s01_20160910T085007Z to folder 'Dataset' in GDrive\n",
      "exporting s01_20160910T213432Z to folder 'Dataset' in GDrive\n",
      "exporting s01_20160911T085321Z to folder 'Dataset' in GDrive\n",
      "exporting s01_20160911T213704Z to folder 'Dataset' in GDrive\n",
      "exporting s01_20160911T214245Z to folder 'Dataset' in GDrive\n",
      "exporting s01_20160914T090132Z to folder 'Dataset' in GDrive\n",
      "exporting s01_20160915T010612Z to folder 'Dataset' in GDrive\n",
      "exporting s01_20160916T090630Z to folder 'Dataset' in GDrive\n",
      "exporting s01_20160917T090856Z to folder 'Dataset' in GDrive\n",
      "exporting s01_20161014T212528Z to folder 'Dataset' in GDrive\n",
      "exporting s01_20161017T213318Z to folder 'Dataset' in GDrive\n",
      "exporting s01_20161017T213857Z to folder 'Dataset' in GDrive\n",
      "exporting s01_20161019T213820Z to folder 'Dataset' in GDrive\n",
      "exporting s01_20161020T085626Z to folder 'Dataset' in GDrive\n",
      "exporting s01_20161020T214047Z to folder 'Dataset' in GDrive\n",
      "exporting s01_20161021T090008Z to folder 'Dataset' in GDrive\n",
      "exporting s01_20161022T090145Z to folder 'Dataset' in GDrive\n",
      "exporting s01_20161025T011217Z to folder 'Dataset' in GDrive\n",
      "exporting s01_20161026T011504Z to folder 'Dataset' in GDrive\n",
      "exporting s01_20161026T091211Z to folder 'Dataset' in GDrive\n",
      "exporting s01_20161114T002107Z to folder 'Dataset' in GDrive\n",
      "exporting s01_20161122T004106Z to folder 'Dataset' in GDrive\n",
      "exporting s01_20161124T084915Z to folder 'Dataset' in GDrive\n",
      "exporting s01_20161201T090654Z to folder 'Dataset' in GDrive\n",
      "exporting s01_20161205T011836Z to folder 'Dataset' in GDrive\n",
      "exporting s01_20170107T010454Z to folder 'Dataset' in GDrive\n",
      "exporting s02_20160302T080227Z to folder 'Dataset' in GDrive\n",
      "exporting s02_20160302T081130Z to folder 'Dataset' in GDrive\n",
      "exporting s02_20160302T081208Z to folder 'Dataset' in GDrive\n",
      "exporting s02_20160302T162027Z to folder 'Dataset' in GDrive\n",
      "exporting s02_20160303T150143Z to folder 'Dataset' in GDrive\n",
      "exporting s02_20160305T091153Z to folder 'Dataset' in GDrive\n",
      "exporting s02_20160307T081207Z to folder 'Dataset' in GDrive\n",
      "exporting s02_20160307T081247Z to folder 'Dataset' in GDrive\n",
      "exporting s02_20160308T002829Z to folder 'Dataset' in GDrive\n",
      "exporting s02_20160308T002912Z to folder 'Dataset' in GDrive\n",
      "exporting s02_20160308T034046Z to folder 'Dataset' in GDrive\n",
      "exporting s02_20160308T034123Z to folder 'Dataset' in GDrive\n",
      "exporting s02_20160309T022331Z to folder 'Dataset' in GDrive\n",
      "exporting s02_20160309T085330Z to folder 'Dataset' in GDrive\n",
      "exporting s02_20160309T215017Z to folder 'Dataset' in GDrive\n",
      "exporting s02_20160310T024341Z to folder 'Dataset' in GDrive\n",
      "exporting s02_20160317T081316Z to folder 'Dataset' in GDrive\n",
      "exporting s02_20160317T081353Z to folder 'Dataset' in GDrive\n",
      "exporting s02_20160317T111552Z to folder 'Dataset' in GDrive\n",
      "exporting s02_20160322T081346Z to folder 'Dataset' in GDrive\n",
      "exporting s02_20160322T081432Z to folder 'Dataset' in GDrive\n",
      "exporting s02_20160329T214715Z to folder 'Dataset' in GDrive\n",
      "exporting s02_20160403T214745Z to folder 'Dataset' in GDrive\n",
      "exporting s02_20160408T215326Z to folder 'Dataset' in GDrive\n",
      "exporting s02_20160410T013059Z to folder 'Dataset' in GDrive\n",
      "exporting s02_20160411T081555Z to folder 'Dataset' in GDrive\n",
      "exporting s02_20160411T111845Z to folder 'Dataset' in GDrive\n",
      "exporting s02_20160412T181512Z to folder 'Dataset' in GDrive\n",
      "exporting s02_20160413T214842Z to folder 'Dataset' in GDrive\n",
      "exporting s02_20160417T082638Z to folder 'Dataset' in GDrive\n",
      "exporting s02_20160420T013154Z to folder 'Dataset' in GDrive\n",
      "exporting s02_20160422T082655Z to folder 'Dataset' in GDrive\n",
      "exporting s02_20160501T081746Z to folder 'Dataset' in GDrive\n",
      "exporting s02_20160502T083647Z to folder 'Dataset' in GDrive\n",
      "exporting s02_20160512T083721Z to folder 'Dataset' in GDrive\n",
      "exporting s02_20160512T181721Z to folder 'Dataset' in GDrive\n",
      "exporting s02_20160516T081843Z to folder 'Dataset' in GDrive\n",
      "exporting s02_20160604T013509Z to folder 'Dataset' in GDrive\n",
      "exporting s02_20160625T015612Z to folder 'Dataset' in GDrive\n",
      "exporting s02_20160630T015618Z to folder 'Dataset' in GDrive\n",
      "exporting s02_20160705T015637Z to folder 'Dataset' in GDrive\n",
      "exporting s02_20160708T221313Z to folder 'Dataset' in GDrive\n",
      "exporting s02_20160713T221331Z to folder 'Dataset' in GDrive\n",
      "exporting s02_20160720T015658Z to folder 'Dataset' in GDrive\n",
      "exporting s02_20160723T221418Z to folder 'Dataset' in GDrive\n",
      "exporting s02_20160728T221412Z to folder 'Dataset' in GDrive\n",
      "exporting s02_20160729T223307Z to folder 'Dataset' in GDrive\n"
     ]
    },
    {
     "name": "stdout",
     "output_type": "stream",
     "text": [
      "exporting s02_20160803T223319Z to folder 'Dataset' in GDrive\n",
      "exporting s02_20160804T015703Z to folder 'Dataset' in GDrive\n",
      "exporting s02_20160808T223332Z to folder 'Dataset' in GDrive\n",
      "exporting s02_20160817T221451Z to folder 'Dataset' in GDrive\n",
      "exporting s02_20160819T015811Z to folder 'Dataset' in GDrive\n",
      "exporting s02_20160823T223405Z to folder 'Dataset' in GDrive\n",
      "exporting s02_20160827T011401Z to folder 'Dataset' in GDrive\n",
      "exporting s02_20160902T094203Z to folder 'Dataset' in GDrive\n",
      "exporting s02_20160902T223413Z to folder 'Dataset' in GDrive\n",
      "exporting s02_20160903T015851Z to folder 'Dataset' in GDrive\n",
      "exporting s02_20160903T100125Z to folder 'Dataset' in GDrive\n",
      "exporting s02_20160907T094218Z to folder 'Dataset' in GDrive\n",
      "exporting s02_20160908T015841Z to folder 'Dataset' in GDrive\n",
      "exporting s02_20160908T100132Z to folder 'Dataset' in GDrive\n",
      "exporting s02_20160911T011357Z to folder 'Dataset' in GDrive\n",
      "exporting s02_20160912T013301Z to folder 'Dataset' in GDrive\n",
      "exporting s02_20160924T021822Z to folder 'Dataset' in GDrive\n",
      "exporting s02_20161007T013247Z to folder 'Dataset' in GDrive\n",
      "exporting s02_20161013T100113Z to folder 'Dataset' in GDrive\n",
      "exporting s02_20161017T013306Z to folder 'Dataset' in GDrive\n",
      "exporting s02_20161017T223517Z to folder 'Dataset' in GDrive\n",
      "exporting s02_20161017T224100Z to folder 'Dataset' in GDrive\n",
      "exporting s02_20161019T021847Z to folder 'Dataset' in GDrive\n",
      "exporting s02_20161022T013305Z to folder 'Dataset' in GDrive\n",
      "exporting s02_20161027T013331Z to folder 'Dataset' in GDrive\n",
      "exporting s02_20161103T021807Z to folder 'Dataset' in GDrive\n",
      "exporting s02_20161108T102049Z to folder 'Dataset' in GDrive\n",
      "exporting s02_20161113T021808Z to folder 'Dataset' in GDrive\n",
      "exporting s02_20161113T102057Z to folder 'Dataset' in GDrive\n",
      "exporting s02_20161118T102026Z to folder 'Dataset' in GDrive\n",
      "exporting s02_20161122T015140Z to folder 'Dataset' in GDrive\n",
      "exporting s02_20161123T021757Z to folder 'Dataset' in GDrive\n",
      "exporting s02_20161123T102035Z to folder 'Dataset' in GDrive\n",
      "exporting s02_20161126T013317Z to folder 'Dataset' in GDrive\n",
      "exporting s02_20161128T021742Z to folder 'Dataset' in GDrive\n",
      "exporting s02_20161128T102046Z to folder 'Dataset' in GDrive\n",
      "exporting s02_20161208T102006Z to folder 'Dataset' in GDrive\n",
      "exporting s02_20161212T015141Z to folder 'Dataset' in GDrive\n",
      "exporting s02_20161214T023621Z to folder 'Dataset' in GDrive\n",
      "exporting s02_20161217T015132Z to folder 'Dataset' in GDrive\n",
      "exporting s02_20161218T102031Z to folder 'Dataset' in GDrive\n",
      "exporting s02_20161219T023625Z to folder 'Dataset' in GDrive\n",
      "exporting s02_20170102T101907Z to folder 'Dataset' in GDrive\n",
      "exporting s03_20160822T235222Z to folder 'Dataset' in GDrive\n",
      "exporting s03_20160824T230742Z to folder 'Dataset' in GDrive\n",
      "exporting s03_20160902T201325Z to folder 'Dataset' in GDrive\n",
      "exporting s03_20160907T200407Z to folder 'Dataset' in GDrive\n",
      "exporting s03_20160907T200912Z to folder 'Dataset' in GDrive\n",
      "exporting s03_20160908T225730Z to folder 'Dataset' in GDrive\n",
      "exporting s03_20160911T233814Z to folder 'Dataset' in GDrive\n",
      "exporting s03_20160912T072812Z to folder 'Dataset' in GDrive\n",
      "exporting s03_20160912T200035Z to folder 'Dataset' in GDrive\n",
      "exporting s03_20160916T074417Z to folder 'Dataset' in GDrive\n",
      "exporting s03_20160916T202127Z to folder 'Dataset' in GDrive\n",
      "exporting s03_20160926T200909Z to folder 'Dataset' in GDrive\n",
      "exporting s03_20160926T201441Z to folder 'Dataset' in GDrive\n",
      "exporting s03_20161001T073258Z to folder 'Dataset' in GDrive\n",
      "exporting s03_20161006T072842Z to folder 'Dataset' in GDrive\n",
      "exporting s03_20161006T200105Z to folder 'Dataset' in GDrive\n",
      "exporting s03_20161006T200640Z to folder 'Dataset' in GDrive\n",
      "exporting s03_20161010T074439Z to folder 'Dataset' in GDrive\n",
      "exporting s03_20161010T202146Z to folder 'Dataset' in GDrive\n",
      "exporting s03_20161010T233515Z to folder 'Dataset' in GDrive\n",
      "exporting s03_20161015T074106Z to folder 'Dataset' in GDrive\n",
      "exporting s03_20161020T073702Z to folder 'Dataset' in GDrive\n",
      "exporting s03_20161020T200833Z to folder 'Dataset' in GDrive\n",
      "exporting s03_20161025T073142Z to folder 'Dataset' in GDrive\n",
      "exporting s03_20161102T235321Z to folder 'Dataset' in GDrive\n",
      "exporting s03_20161103T074314Z to folder 'Dataset' in GDrive\n",
      "exporting s03_20161107T234835Z to folder 'Dataset' in GDrive\n",
      "exporting s03_20161112T234520Z to folder 'Dataset' in GDrive\n",
      "exporting s03_20161118T073132Z to folder 'Dataset' in GDrive\n",
      "exporting s03_20161122T233911Z to folder 'Dataset' in GDrive\n",
      "exporting s03_20161221T074616Z to folder 'Dataset' in GDrive\n",
      "exporting s03_20161226T074205Z to folder 'Dataset' in GDrive\n",
      "exporting s03_20161231T073647Z to folder 'Dataset' in GDrive\n",
      "exporting s04_20161218T235917Z to folder 'Dataset' in GDrive\n",
      "exporting s04_20161227T082541Z to folder 'Dataset' in GDrive\n",
      "exporting s103_20161209T003328Z to folder 'Dataset' in GDrive\n",
      "exporting s103_20161214T002856Z to folder 'Dataset' in GDrive\n",
      "exporting s103_20161224T235326Z to folder 'Dataset' in GDrive\n",
      "exporting s103_20161228T082425Z to folder 'Dataset' in GDrive\n",
      "exporting s103_20170102T002918Z to folder 'Dataset' in GDrive\n",
      "exporting s104_20161219T004218Z to folder 'Dataset' in GDrive\n",
      "exporting s104_20161224T003725Z to folder 'Dataset' in GDrive\n"
     ]
    },
    {
     "data": {
      "text/plain": [
       "[<Task F4I6I2AB4RX5PIORFG6O3HKZ EXPORT_IMAGE: s01_20160302T081654Z (UNSUBMITTED)>,\n",
       " <Task R6HYD4P3WPJBO4J5EPMQJZOR EXPORT_IMAGE: s01_20160302T081735Z (UNSUBMITTED)>,\n",
       " <Task IGKJWBUHFRGTSLRVRPSCOBR3 EXPORT_IMAGE: s01_20160302T081910Z (UNSUBMITTED)>,\n",
       " <Task EYQMVV5ONBA5FPVCQZKSRHAL EXPORT_IMAGE: s01_20160302T081954Z (UNSUBMITTED)>,\n",
       " <Task EJIWI6POZ36I6FPNOFHXOBBZ EXPORT_IMAGE: s01_20160303T144544Z (UNSUBMITTED)>,\n",
       " <Task 7K7IARGTD3ST7ELMKDYKCIKN EXPORT_IMAGE: s01_20160304T082423Z (UNSUBMITTED)>,\n",
       " <Task COYUJBJWRBG2ATMRGGKGS5NF EXPORT_IMAGE: s01_20160306T083026Z (UNSUBMITTED)>,\n",
       " <Task MDQIVD7Y6BW6MUOXKGTLY25O EXPORT_IMAGE: s01_20160307T020720Z (UNSUBMITTED)>,\n",
       " <Task HGVY4XF6ALLWX7WNGX3XP42Y EXPORT_IMAGE: s01_20160307T145511Z (UNSUBMITTED)>,\n",
       " <Task T4HNL2XW6MP2D6M4AYLFLSYH EXPORT_IMAGE: s01_20160307T145551Z (UNSUBMITTED)>,\n",
       " <Task 6CCCGDQXNROBCXP67A4F43KX EXPORT_IMAGE: s01_20160308T082955Z (UNSUBMITTED)>,\n",
       " <Task RUBIXH4FVP4D3IYKMZOKQ4BQ EXPORT_IMAGE: s01_20160308T083333Z (UNSUBMITTED)>,\n",
       " <Task ANJFPHXF5PSH366A67KEQGE3 EXPORT_IMAGE: s01_20160309T212126Z (UNSUBMITTED)>,\n",
       " <Task EK25IT6ELOW2KODBRKJW36ER EXPORT_IMAGE: s01_20160310T212911Z (UNSUBMITTED)>,\n",
       " <Task YL2RSWJDI35S56IO7E3YSSOJ EXPORT_IMAGE: s01_20160314T213956Z (UNSUBMITTED)>,\n",
       " <Task DU5N2ATYLED24VK4RIKUZJ5F EXPORT_IMAGE: s01_20160326T104737Z (UNSUBMITTED)>,\n",
       " <Task ZXVCBUROA2JVZH5XTXRV57NZ EXPORT_IMAGE: s01_20160328T074345Z (UNSUBMITTED)>,\n",
       " <Task JZKHCMHISMNPIRQFTTNKLATJ EXPORT_IMAGE: s01_20160328T075246Z (UNSUBMITTED)>,\n",
       " <Task PRY6ERCMM2X57I6CZOL4D22O EXPORT_IMAGE: s01_20160403T032250Z (UNSUBMITTED)>,\n",
       " <Task QBAHMID7T357FNDN5EVWTJLN EXPORT_IMAGE: s01_20160403T080022Z (UNSUBMITTED)>,\n",
       " <Task 7MS4IBUFLQVPESXUGB262DE5 EXPORT_IMAGE: s01_20160404T032535Z (UNSUBMITTED)>,\n",
       " <Task U4WYULD5DNCCA5A7NZ24UMZ4 EXPORT_IMAGE: s01_20160404T080315Z (UNSUBMITTED)>,\n",
       " <Task JMHRIN4JRWDLEHRGNMMFBP3Z EXPORT_IMAGE: s01_20160411T180417Z (UNSUBMITTED)>,\n",
       " <Task NIY5XU4VT56TJABI4MBMNPB6 EXPORT_IMAGE: s01_20160414T212929Z (UNSUBMITTED)>,\n",
       " <Task 2GSFJ6HI7P4E6HJEVMPAKY5T EXPORT_IMAGE: s01_20160417T213714Z (UNSUBMITTED)>,\n",
       " <Task CGTC2TJCXHXDVEUU5PHTLXYP EXPORT_IMAGE: s01_20160420T005909Z (UNSUBMITTED)>,\n",
       " <Task 7FEMQWAAADXKWLBKLCZFOJNU EXPORT_IMAGE: s01_20160421T010144Z (UNSUBMITTED)>,\n",
       " <Task DF27546J2YDR2MW7VXBRJN6Z EXPORT_IMAGE: s01_20160422T010422Z (UNSUBMITTED)>,\n",
       " <Task SBDNYXCFRJG3UAT65NXMH2RU EXPORT_IMAGE: s01_20160423T010702Z (UNSUBMITTED)>,\n",
       " <Task DYBCHSH72DTJCLFJIOGCJCOY EXPORT_IMAGE: s01_20160502T075239Z (UNSUBMITTED)>,\n",
       " <Task ZM2TTVH6OFEEXJ2HB266OGYI EXPORT_IMAGE: s01_20160505T031426Z (UNSUBMITTED)>,\n",
       " <Task Y2GS37VMKYVA5ZFW2Q45ZSSW EXPORT_IMAGE: s01_20160505T110038Z (UNSUBMITTED)>,\n",
       " <Task RYFEU4J27MSU7UKQ3MIM6CJ6 EXPORT_IMAGE: s01_20160510T174659Z (UNSUBMITTED)>,\n",
       " <Task C2JX5ONH3WG23YJYBSAHYNYF EXPORT_IMAGE: s01_20160517T180531Z (UNSUBMITTED)>,\n",
       " <Task PKEEV57JTG7KXYIV57XE6XFV EXPORT_IMAGE: s01_20160529T010740Z (UNSUBMITTED)>,\n",
       " <Task OCNUJNKL4FN236QFR6TPX6Q2 EXPORT_IMAGE: s01_20160529T010839Z (UNSUBMITTED)>,\n",
       " <Task CZQE4QS2FWHKYF3DGBJ6IGPO EXPORT_IMAGE: s01_20160530T011020Z (UNSUBMITTED)>,\n",
       " <Task DTRZEGZNLUS7SE57OSO3ABLA EXPORT_IMAGE: s01_20160530T011117Z (UNSUBMITTED)>,\n",
       " <Task EUX35Q7QJ4IZOCQEJEZ647XG EXPORT_IMAGE: s01_20160602T011856Z (UNSUBMITTED)>,\n",
       " <Task W226L7O44OSJ7HVWTYSCFQ3I EXPORT_IMAGE: s01_20160703T010430Z (UNSUBMITTED)>,\n",
       " <Task 7JEJM6GQ6WRGXJVV4A67GFKG EXPORT_IMAGE: s01_20160704T010705Z (UNSUBMITTED)>,\n",
       " <Task BRZR6FFFOUN63GUX22TKFJCN EXPORT_IMAGE: s01_20160707T011538Z (UNSUBMITTED)>,\n",
       " <Task 36DQHHPGGI3FKYO3XUI6CWFD EXPORT_IMAGE: s01_20160708T011831Z (UNSUBMITTED)>,\n",
       " <Task XD3CJDNVRS76NRXMWU5APOGS EXPORT_IMAGE: s01_20160731T212931Z (UNSUBMITTED)>,\n",
       " <Task PE3XD2IHFLI54HCDLB7TNQLL EXPORT_IMAGE: s01_20160801T212642Z (UNSUBMITTED)>,\n",
       " <Task KJAQS5X2KDC46R42CLUTSVTD EXPORT_IMAGE: s01_20160801T213116Z (UNSUBMITTED)>,\n",
       " <Task UX5EZJAT4JM2QG5CQYO3MW4K EXPORT_IMAGE: s01_20160801T213216Z (UNSUBMITTED)>,\n",
       " <Task VT3QSN2KEOTU4GJQFLBOLCGG EXPORT_IMAGE: s01_20160803T213145Z (UNSUBMITTED)>,\n",
       " <Task C4MWK7KG7Q2O47XSTLKSP4KJ EXPORT_IMAGE: s01_20160804T213421Z (UNSUBMITTED)>,\n",
       " <Task YEWPI5PLN5L2HO6ASCLPNL7S EXPORT_IMAGE: s01_20160805T213648Z (UNSUBMITTED)>,\n",
       " <Task RMTCVA4OHSFQ4ZGWE7PTNG4Y EXPORT_IMAGE: s01_20160806T213922Z (UNSUBMITTED)>,\n",
       " <Task LLG36URMKP6HBDHP5K7ANCEV EXPORT_IMAGE: s01_20160808T010313Z (UNSUBMITTED)>,\n",
       " <Task VL2P4UM652CZ2XP4M6XVWZCE EXPORT_IMAGE: s01_20160808T214417Z (UNSUBMITTED)>,\n",
       " <Task BDJTZBNNRER4SIHP2BDH5B72 EXPORT_IMAGE: s01_20160811T011111Z (UNSUBMITTED)>,\n",
       " <Task D5EBEUADA3C777DYDKKXJWEX EXPORT_IMAGE: s01_20160812T011331Z (UNSUBMITTED)>,\n",
       " <Task UWTBZB7Q4KXPM7O3KRYQCF7P EXPORT_IMAGE: s01_20160830T001916Z (UNSUBMITTED)>,\n",
       " <Task FN7EI4UCP52CLT2DJXRVPQHS EXPORT_IMAGE: s01_20160906T212403Z (UNSUBMITTED)>,\n",
       " <Task 6YQ4HPDLMPV7MZ333A2DSBMP EXPORT_IMAGE: s01_20160906T212937Z (UNSUBMITTED)>,\n",
       " <Task KKYNPC6G5VOQPX7N5EXW7ZA4 EXPORT_IMAGE: s01_20160907T212649Z (UNSUBMITTED)>,\n",
       " <Task SSHI3C45C7SYWX3J2YSUMBPX EXPORT_IMAGE: s01_20160907T213224Z (UNSUBMITTED)>,\n",
       " <Task JPNWFY47DEETG6PE2UGSWID4 EXPORT_IMAGE: s01_20160908T004213Z (UNSUBMITTED)>,\n",
       " <Task CPJ5KPM2ELNW62QAVY5KLMLP EXPORT_IMAGE: s01_20160909T213157Z (UNSUBMITTED)>,\n",
       " <Task ODYDM4FKR3DEDHITG655235I EXPORT_IMAGE: s01_20160910T085007Z (UNSUBMITTED)>,\n",
       " <Task DOSZ4TVIL2DIEYUIVBWPWS3D EXPORT_IMAGE: s01_20160910T213432Z (UNSUBMITTED)>,\n",
       " <Task U2T7E3S2RUM6AO3ZJLLNUT3B EXPORT_IMAGE: s01_20160911T085321Z (UNSUBMITTED)>,\n",
       " <Task BJYW3ZTVUETQ4OQF7SFIUX2D EXPORT_IMAGE: s01_20160911T213704Z (UNSUBMITTED)>,\n",
       " <Task 2BUWTM67HOJTWLZTWHGR6WDY EXPORT_IMAGE: s01_20160911T214245Z (UNSUBMITTED)>,\n",
       " <Task NAWXISIACXMAACXPEOWOQYZP EXPORT_IMAGE: s01_20160914T090132Z (UNSUBMITTED)>,\n",
       " <Task ZKN5HIUKGNH6CJTUZ3U5CR3K EXPORT_IMAGE: s01_20160915T010612Z (UNSUBMITTED)>,\n",
       " <Task YZOPIY7FUULUDAGV5Q5L6HXZ EXPORT_IMAGE: s01_20160916T090630Z (UNSUBMITTED)>,\n",
       " <Task JM3RR3SWCGL2TAML6LOEVU3G EXPORT_IMAGE: s01_20160917T090856Z (UNSUBMITTED)>,\n",
       " <Task 4IXEXOPM6ZYA6RJBDLZQFUQD EXPORT_IMAGE: s01_20161014T212528Z (UNSUBMITTED)>,\n",
       " <Task QH3HBQAZWG3UHA56U6UBISK5 EXPORT_IMAGE: s01_20161017T213318Z (UNSUBMITTED)>,\n",
       " <Task U4RLEWRCNE7G62XISW6FHD6T EXPORT_IMAGE: s01_20161017T213857Z (UNSUBMITTED)>,\n",
       " <Task WYMXWO4B4MVXEPIEJAEG666B EXPORT_IMAGE: s01_20161019T213820Z (UNSUBMITTED)>,\n",
       " <Task 4B4PS2UHQ6543WQ4OHKHPH7E EXPORT_IMAGE: s01_20161020T085626Z (UNSUBMITTED)>,\n",
       " <Task CEQ4FHPK3ENQMYYCGRTQLTVY EXPORT_IMAGE: s01_20161020T214047Z (UNSUBMITTED)>,\n",
       " <Task ROSVRAT5BZ5Z5BWOUAB34XGE EXPORT_IMAGE: s01_20161021T090008Z (UNSUBMITTED)>,\n",
       " <Task 35Q67ESCKLKTSO3ZE6YNEME2 EXPORT_IMAGE: s01_20161022T090145Z (UNSUBMITTED)>,\n",
       " <Task QCBKYWX77ILNXYNEQPBLMQSR EXPORT_IMAGE: s01_20161025T011217Z (UNSUBMITTED)>,\n",
       " <Task 5QSVS3YZHZ6QUTLDJCYJO3CB EXPORT_IMAGE: s01_20161026T011504Z (UNSUBMITTED)>,\n",
       " <Task HPEPPPHPFQYYJBSQ5RGAV6F4 EXPORT_IMAGE: s01_20161026T091211Z (UNSUBMITTED)>,\n",
       " <Task H5OJI2WS3UAJVAYEETGYXZPU EXPORT_IMAGE: s01_20161114T002107Z (UNSUBMITTED)>,\n",
       " <Task NCW5PY3AUSXCYK3KN2JH2G6E EXPORT_IMAGE: s01_20161122T004106Z (UNSUBMITTED)>,\n",
       " <Task V2VC7753QALRGLAZT4WAUQTA EXPORT_IMAGE: s01_20161124T084915Z (UNSUBMITTED)>,\n",
       " <Task CCIO4MKDYNATTACIVCTWNRM2 EXPORT_IMAGE: s01_20161201T090654Z (UNSUBMITTED)>,\n",
       " <Task RFP64OQUNRP3HJCFNELWA7LI EXPORT_IMAGE: s01_20161205T011836Z (UNSUBMITTED)>,\n",
       " <Task 6FPSCRM7KASY7KZFVZH3IQ4P EXPORT_IMAGE: s01_20170107T010454Z (UNSUBMITTED)>,\n",
       " <Task UVHB33RHAYXWAFQSIJWATJED EXPORT_IMAGE: s02_20160302T080227Z (UNSUBMITTED)>,\n",
       " <Task 6XYSEYARWHGA4MW3CTQEPZW6 EXPORT_IMAGE: s02_20160302T081130Z (UNSUBMITTED)>,\n",
       " <Task XOCAPR6YB76B33E43DAOVIPT EXPORT_IMAGE: s02_20160302T081208Z (UNSUBMITTED)>,\n",
       " <Task M4JJHSN6C7XXKAIXBLKAQCDL EXPORT_IMAGE: s02_20160302T162027Z (UNSUBMITTED)>,\n",
       " <Task OOYYIFGQC2QKK2KWOY32EYQ6 EXPORT_IMAGE: s02_20160303T150143Z (UNSUBMITTED)>,\n",
       " <Task U3EGLJUO2JHICWRPRTAUQJQY EXPORT_IMAGE: s02_20160305T091153Z (UNSUBMITTED)>,\n",
       " <Task ALY2RCGCDX6RKLEYLUSQ5BYL EXPORT_IMAGE: s02_20160307T081207Z (UNSUBMITTED)>,\n",
       " <Task XECEDHT62PY6PTQUDLQA2CCO EXPORT_IMAGE: s02_20160307T081247Z (UNSUBMITTED)>,\n",
       " <Task 6HC2GAAUAH7FWJEEOKCVAM7P EXPORT_IMAGE: s02_20160308T002829Z (UNSUBMITTED)>,\n",
       " <Task 4L7DQZGMD5CMPQJJQGROK7MR EXPORT_IMAGE: s02_20160308T002912Z (UNSUBMITTED)>,\n",
       " <Task SNLEADPUXOS6PSLU3QRLV3CQ EXPORT_IMAGE: s02_20160308T034046Z (UNSUBMITTED)>,\n",
       " <Task E6L6B4HSBFM75MG2TD63OWXN EXPORT_IMAGE: s02_20160308T034123Z (UNSUBMITTED)>,\n",
       " <Task GLVBKL5SOT22AUDHZVJILKAU EXPORT_IMAGE: s02_20160309T022331Z (UNSUBMITTED)>,\n",
       " <Task MA6N34PNMZGSPFPMQ4AKNC64 EXPORT_IMAGE: s02_20160309T085330Z (UNSUBMITTED)>,\n",
       " <Task VKJSKANDTEW2VUGHVCNEHKKZ EXPORT_IMAGE: s02_20160309T215017Z (UNSUBMITTED)>,\n",
       " <Task I56TLPDGY2GJCIKJTWI2WMNE EXPORT_IMAGE: s02_20160310T024341Z (UNSUBMITTED)>,\n",
       " <Task CU6SIJAQPJZ3IUUMB6ZI65BG EXPORT_IMAGE: s02_20160317T081316Z (UNSUBMITTED)>,\n",
       " <Task JDXN5G4VW56OI7EAWCMZ4SHQ EXPORT_IMAGE: s02_20160317T081353Z (UNSUBMITTED)>,\n",
       " <Task QDTPYFHZXB2MIL2LEGAZDXMT EXPORT_IMAGE: s02_20160317T111552Z (UNSUBMITTED)>,\n",
       " <Task 73RELNE2NC24CDONQJMN2236 EXPORT_IMAGE: s02_20160322T081346Z (UNSUBMITTED)>,\n",
       " <Task ZSBLSQGLQ555OAY2C6W3KTXH EXPORT_IMAGE: s02_20160322T081432Z (UNSUBMITTED)>,\n",
       " <Task 36QVQ7YZAOUFTWJVV2WUGRPT EXPORT_IMAGE: s02_20160329T214715Z (UNSUBMITTED)>,\n",
       " <Task BB5WXKXDGVDFM536LXXDOVC3 EXPORT_IMAGE: s02_20160403T214745Z (UNSUBMITTED)>,\n",
       " <Task CARP7KDI7FUI5WBNZ4OYHB34 EXPORT_IMAGE: s02_20160408T215326Z (UNSUBMITTED)>,\n",
       " <Task SRKLDOCUXQAASEYFYSEYIZDK EXPORT_IMAGE: s02_20160410T013059Z (UNSUBMITTED)>,\n",
       " <Task RSVXWRKZE2CMEW73A6TZLVEU EXPORT_IMAGE: s02_20160411T081555Z (UNSUBMITTED)>,\n",
       " <Task GYVL2P6JPWUQG44RKS2BD32A EXPORT_IMAGE: s02_20160411T111845Z (UNSUBMITTED)>,\n",
       " <Task ZLB7BN3M6KNA6TQAFTORONLX EXPORT_IMAGE: s02_20160412T181512Z (UNSUBMITTED)>,\n",
       " <Task AHFMZFI5BQTDAFXW53LXQFKT EXPORT_IMAGE: s02_20160413T214842Z (UNSUBMITTED)>,\n",
       " <Task FWMSZNT2CAB45JVUNE3AVJU6 EXPORT_IMAGE: s02_20160417T082638Z (UNSUBMITTED)>,\n",
       " <Task 5SPBV2CSB4BOWUDV4LIKST7K EXPORT_IMAGE: s02_20160420T013154Z (UNSUBMITTED)>,\n",
       " <Task UZFVJUSJIGX6QMCVG3ICYQC2 EXPORT_IMAGE: s02_20160422T082655Z (UNSUBMITTED)>,\n",
       " <Task JXRTAFIEQ3JQZQQKX7FYK3NA EXPORT_IMAGE: s02_20160501T081746Z (UNSUBMITTED)>,\n",
       " <Task ZVGINLOH7DQIHO4XXHPILDAI EXPORT_IMAGE: s02_20160502T083647Z (UNSUBMITTED)>,\n",
       " <Task YN7ZTUKY4I2ULE5QH6G6QWRM EXPORT_IMAGE: s02_20160512T083721Z (UNSUBMITTED)>,\n",
       " <Task 7J74W7MUKJH5DBPQMI3YXN4Y EXPORT_IMAGE: s02_20160512T181721Z (UNSUBMITTED)>,\n",
       " <Task IJHXK2XM7U2GVWLJ5VAZYLMX EXPORT_IMAGE: s02_20160516T081843Z (UNSUBMITTED)>,\n",
       " <Task T7K44DUDLHFBVHJXUXEXMXFJ EXPORT_IMAGE: s02_20160604T013509Z (UNSUBMITTED)>,\n",
       " <Task JTZ3IBDXIDRCRYKV6ZO65IB7 EXPORT_IMAGE: s02_20160625T015612Z (UNSUBMITTED)>,\n",
       " <Task 4T6G66BICMDIWHI7S5Q24JVB EXPORT_IMAGE: s02_20160630T015618Z (UNSUBMITTED)>,\n",
       " <Task KYLEREMLEXRAWM3RNN5CQAYR EXPORT_IMAGE: s02_20160705T015637Z (UNSUBMITTED)>,\n",
       " <Task 2QSO66F33FDGPXTB7GYNH2AQ EXPORT_IMAGE: s02_20160708T221313Z (UNSUBMITTED)>,\n",
       " <Task N2BSBZBAO6HUNLPHLM5ZZGMA EXPORT_IMAGE: s02_20160713T221331Z (UNSUBMITTED)>,\n",
       " <Task 52XY33KMVUI5CFNEB6UY4PZF EXPORT_IMAGE: s02_20160720T015658Z (UNSUBMITTED)>,\n",
       " <Task EO4HKH7R273TBRXVMXGVZ7BO EXPORT_IMAGE: s02_20160723T221418Z (UNSUBMITTED)>,\n",
       " <Task NU5TIMQGSSHW6XMXN2VKVHBP EXPORT_IMAGE: s02_20160728T221412Z (UNSUBMITTED)>,\n",
       " <Task 6WE5LQLTAX3VL7SDBZ7FS4RI EXPORT_IMAGE: s02_20160729T223307Z (UNSUBMITTED)>,\n",
       " <Task QSIUWB4YCHC2QLVBWY4F66P5 EXPORT_IMAGE: s02_20160803T223319Z (UNSUBMITTED)>,\n",
       " <Task FBWGTVL6GH3RUHYITDVY3EUE EXPORT_IMAGE: s02_20160804T015703Z (UNSUBMITTED)>,\n",
       " <Task POHUBMK2SGEK2NOSPZELQ7D7 EXPORT_IMAGE: s02_20160808T223332Z (UNSUBMITTED)>,\n",
       " <Task FVOM6UHCEDCJRCARG3BGE4QI EXPORT_IMAGE: s02_20160817T221451Z (UNSUBMITTED)>,\n",
       " <Task MBXH5JTBOQHA7WKDLYSDUO7P EXPORT_IMAGE: s02_20160819T015811Z (UNSUBMITTED)>,\n",
       " <Task DHG2UEB6ZYJQ2NE63TKS4L3P EXPORT_IMAGE: s02_20160823T223405Z (UNSUBMITTED)>,\n",
       " <Task XZKVAFSM5JUBB47DZUBHVHLK EXPORT_IMAGE: s02_20160827T011401Z (UNSUBMITTED)>,\n",
       " <Task 3EWQP7GBOJNJG473ME52EIBC EXPORT_IMAGE: s02_20160902T094203Z (UNSUBMITTED)>,\n",
       " <Task 6WJ5HSNRHYUK7XUVLCOWRHC7 EXPORT_IMAGE: s02_20160902T223413Z (UNSUBMITTED)>,\n",
       " <Task QC25QVGLLSNM3FQTTBUCAVY4 EXPORT_IMAGE: s02_20160903T015851Z (UNSUBMITTED)>,\n",
       " <Task 6EZM53GY6AAZTPCVA6MMYEOD EXPORT_IMAGE: s02_20160903T100125Z (UNSUBMITTED)>,\n",
       " <Task ARBMSZFBEUGZB5UVYYV7RSME EXPORT_IMAGE: s02_20160907T094218Z (UNSUBMITTED)>,\n",
       " <Task 2XST7LXQLDDO63Z3NZF6YICM EXPORT_IMAGE: s02_20160908T015841Z (UNSUBMITTED)>,\n",
       " <Task JYKX4IFNJ55N4KGLVPEFUVMV EXPORT_IMAGE: s02_20160908T100132Z (UNSUBMITTED)>,\n",
       " <Task JTVHI5E2C6UWN6NAY2PP7YSI EXPORT_IMAGE: s02_20160911T011357Z (UNSUBMITTED)>,\n",
       " <Task YOGZZFGEHFWDT3NZT7G7DS4E EXPORT_IMAGE: s02_20160912T013301Z (UNSUBMITTED)>,\n",
       " <Task OV5WFPF5XVABMRO27RTEFSTL EXPORT_IMAGE: s02_20160924T021822Z (UNSUBMITTED)>,\n",
       " <Task DFCRVA7CXKHJUI43L6CARZWB EXPORT_IMAGE: s02_20161007T013247Z (UNSUBMITTED)>,\n",
       " <Task 2SKFXSTZKGFQ6TTHJLAEO4EF EXPORT_IMAGE: s02_20161013T100113Z (UNSUBMITTED)>,\n",
       " <Task 7MH3FCJWNBVN2C3T6K2CZLII EXPORT_IMAGE: s02_20161017T013306Z (UNSUBMITTED)>,\n",
       " <Task T4YILRYQ57BNXGQ4BROVT37W EXPORT_IMAGE: s02_20161017T223517Z (UNSUBMITTED)>,\n",
       " <Task DA3DRBI5OM7FTENZYZB54XGG EXPORT_IMAGE: s02_20161017T224100Z (UNSUBMITTED)>,\n",
       " <Task QJV5W3S35256IAZBBVV2CQUU EXPORT_IMAGE: s02_20161019T021847Z (UNSUBMITTED)>,\n",
       " <Task OZN2TGMLVRAPHPKLMEXVO4XR EXPORT_IMAGE: s02_20161022T013305Z (UNSUBMITTED)>,\n",
       " <Task GEHRYSJTYILUT72PUMR3FPLJ EXPORT_IMAGE: s02_20161027T013331Z (UNSUBMITTED)>,\n",
       " <Task WDIXDZHZ7RZM67E5AKBFMTGO EXPORT_IMAGE: s02_20161103T021807Z (UNSUBMITTED)>,\n",
       " <Task 74Z3I7A4IONBV2BPT5THGJTL EXPORT_IMAGE: s02_20161108T102049Z (UNSUBMITTED)>,\n",
       " <Task PVDEEKJL3E3YHPSHC45RI2IC EXPORT_IMAGE: s02_20161113T021808Z (UNSUBMITTED)>,\n",
       " <Task X6MCGOY55LCN4WGZEBHVYQ2Q EXPORT_IMAGE: s02_20161113T102057Z (UNSUBMITTED)>,\n",
       " <Task 3KUCASTQHB3VJQYGO45HIOSV EXPORT_IMAGE: s02_20161118T102026Z (UNSUBMITTED)>,\n",
       " <Task VB53SEQZV5Y44HSDZKUGYXJQ EXPORT_IMAGE: s02_20161122T015140Z (UNSUBMITTED)>,\n",
       " <Task 2MWCEZ36NM3ZLICTUXOLCQGM EXPORT_IMAGE: s02_20161123T021757Z (UNSUBMITTED)>,\n",
       " <Task BVBBTM4TANIPFHP676O43ASV EXPORT_IMAGE: s02_20161123T102035Z (UNSUBMITTED)>,\n",
       " <Task VYZVKZY6F5MGBOJDWU6XNGAH EXPORT_IMAGE: s02_20161126T013317Z (UNSUBMITTED)>,\n",
       " <Task RQIDSB6FHYYPYKBQHSNPFLLC EXPORT_IMAGE: s02_20161128T021742Z (UNSUBMITTED)>,\n",
       " <Task VVTNE7OJA6CDKVWWHW34WL2X EXPORT_IMAGE: s02_20161128T102046Z (UNSUBMITTED)>,\n",
       " <Task 7XUS2PLPRM2YQBH5H3KB57DU EXPORT_IMAGE: s02_20161208T102006Z (UNSUBMITTED)>,\n",
       " <Task LJPPNZ3ZXECZDTVXLOKU5DRJ EXPORT_IMAGE: s02_20161212T015141Z (UNSUBMITTED)>,\n",
       " <Task GTIHX3S6S5MCZ5JVZO3E4DFZ EXPORT_IMAGE: s02_20161214T023621Z (UNSUBMITTED)>,\n",
       " <Task 6M3TRGIOFHCUZLERRQJ52M6W EXPORT_IMAGE: s02_20161217T015132Z (UNSUBMITTED)>,\n",
       " <Task QYLLQDAH6CGJDY3R3LK4OFZE EXPORT_IMAGE: s02_20161218T102031Z (UNSUBMITTED)>,\n",
       " <Task XJPUVZIUNUTPSVMIB2U6FYMM EXPORT_IMAGE: s02_20161219T023625Z (UNSUBMITTED)>,\n",
       " <Task PAO4O2G7WGIK3BSZONOL335S EXPORT_IMAGE: s02_20170102T101907Z (UNSUBMITTED)>,\n",
       " <Task KOTQNDTRZ5BZVVZ45KBGVOJ5 EXPORT_IMAGE: s03_20160822T235222Z (UNSUBMITTED)>,\n",
       " <Task PMI7BPBVFNC4FBDLQWREACS2 EXPORT_IMAGE: s03_20160824T230742Z (UNSUBMITTED)>,\n",
       " <Task ZR2EXZU4XMF3VOBNP7UJGBGZ EXPORT_IMAGE: s03_20160902T201325Z (UNSUBMITTED)>,\n",
       " <Task KF5AJKUR6U23C2WYT6PAVA7P EXPORT_IMAGE: s03_20160907T200407Z (UNSUBMITTED)>,\n",
       " <Task QBFQIENV3EIEDF5IO3CFGZ4Y EXPORT_IMAGE: s03_20160907T200912Z (UNSUBMITTED)>,\n",
       " <Task CPF6IUDJ73D2VRSSAWG57AAM EXPORT_IMAGE: s03_20160908T225730Z (UNSUBMITTED)>,\n",
       " <Task 6B57VPQPIRJYOVCXVMPFXBHE EXPORT_IMAGE: s03_20160911T233814Z (UNSUBMITTED)>,\n",
       " <Task D7FIH5RX5KOJW4DYCYXZAXHX EXPORT_IMAGE: s03_20160912T072812Z (UNSUBMITTED)>,\n",
       " <Task FGZHVC4KY6YSVM5TP3A2JDDF EXPORT_IMAGE: s03_20160912T200035Z (UNSUBMITTED)>,\n",
       " <Task GK4FRVT5ZWHPDQN4V4W5GX6B EXPORT_IMAGE: s03_20160916T074417Z (UNSUBMITTED)>,\n",
       " <Task GJ2BCQBQZIPUX24TZWMYWF2H EXPORT_IMAGE: s03_20160916T202127Z (UNSUBMITTED)>,\n",
       " <Task NUN3HACOGLHIOHYICHW42ND2 EXPORT_IMAGE: s03_20160926T200909Z (UNSUBMITTED)>,\n",
       " <Task VFHLNQ3L2UUEYBTG6I6EO5V4 EXPORT_IMAGE: s03_20160926T201441Z (UNSUBMITTED)>,\n",
       " <Task H7NEDPDW6TB2QGFAURAYCIBC EXPORT_IMAGE: s03_20161001T073258Z (UNSUBMITTED)>,\n",
       " <Task XZC2HIHM5D7UAB6KC7ZNEF75 EXPORT_IMAGE: s03_20161006T072842Z (UNSUBMITTED)>,\n",
       " <Task 25AI2T5EZWFBN5SCL7DSGZ2F EXPORT_IMAGE: s03_20161006T200105Z (UNSUBMITTED)>,\n",
       " <Task P6WFVCZXKJA2X2FMCITKLR4Y EXPORT_IMAGE: s03_20161006T200640Z (UNSUBMITTED)>,\n",
       " <Task BQNWSW2UVMJ2E5RYC4UALSA3 EXPORT_IMAGE: s03_20161010T074439Z (UNSUBMITTED)>,\n",
       " <Task FRL3WM5AU2A2KC6CAITZQQO7 EXPORT_IMAGE: s03_20161010T202146Z (UNSUBMITTED)>,\n",
       " <Task ZXKQFBJNOZVYPXMG4HLYEIWL EXPORT_IMAGE: s03_20161010T233515Z (UNSUBMITTED)>,\n",
       " <Task MRWVWCIVZOMD5W7Y72Y5APWW EXPORT_IMAGE: s03_20161015T074106Z (UNSUBMITTED)>,\n",
       " <Task AIR55HRDTFWUDNJHQJ3YFAWT EXPORT_IMAGE: s03_20161020T073702Z (UNSUBMITTED)>,\n",
       " <Task DAX2HAKUZJN4ZON4M4RMXJXZ EXPORT_IMAGE: s03_20161020T200833Z (UNSUBMITTED)>,\n",
       " <Task MIGF4EZAVHZIDGZW4MGHJFEK EXPORT_IMAGE: s03_20161025T073142Z (UNSUBMITTED)>,\n",
       " <Task 47RUMEETFCU6J3UJCU3SDKYZ EXPORT_IMAGE: s03_20161102T235321Z (UNSUBMITTED)>,\n",
       " <Task LXFQGNIFKVWFFXC5UZZLPMHX EXPORT_IMAGE: s03_20161103T074314Z (UNSUBMITTED)>,\n",
       " <Task WFDV5GQTOZ7XU4EZQXYOPRUD EXPORT_IMAGE: s03_20161107T234835Z (UNSUBMITTED)>,\n",
       " <Task 7T6EIS4N6AJBIBQ3LCS6KKSG EXPORT_IMAGE: s03_20161112T234520Z (UNSUBMITTED)>,\n",
       " <Task ITP53AZRXDZS4TQN5CIV2EDX EXPORT_IMAGE: s03_20161118T073132Z (UNSUBMITTED)>,\n",
       " <Task VTOTCAIIS7XMYUOCKILKO6SE EXPORT_IMAGE: s03_20161122T233911Z (UNSUBMITTED)>,\n",
       " <Task 22342R2RWO72XWQNOE24MEPS EXPORT_IMAGE: s03_20161221T074616Z (UNSUBMITTED)>,\n",
       " <Task SLYQTJB4MBUJCCPL3BKT4KMI EXPORT_IMAGE: s03_20161226T074205Z (UNSUBMITTED)>,\n",
       " <Task OJX6M27YFDG2ZQH7QQX4BVJX EXPORT_IMAGE: s03_20161231T073647Z (UNSUBMITTED)>,\n",
       " <Task PNDSREHPJPRBGWSNTN767JDJ EXPORT_IMAGE: s04_20161218T235917Z (UNSUBMITTED)>,\n",
       " <Task IAKKFQCLKVYUN3PIUUV42BI6 EXPORT_IMAGE: s04_20161227T082541Z (UNSUBMITTED)>,\n",
       " <Task 5NH5JP2L5A5HUYN22IXDD7M6 EXPORT_IMAGE: s103_20161209T003328Z (UNSUBMITTED)>,\n",
       " <Task DUE2NZZ65HCASM54X5WOWD3T EXPORT_IMAGE: s103_20161214T002856Z (UNSUBMITTED)>,\n",
       " <Task PMIRKRKAIAXGQRLFKV4HPNP6 EXPORT_IMAGE: s103_20161224T235326Z (UNSUBMITTED)>,\n",
       " <Task RSHB4NEVY35NHUX64GKCY2ZY EXPORT_IMAGE: s103_20161228T082425Z (UNSUBMITTED)>,\n",
       " <Task W3KINROYQRNQJQSLNOI2WAII EXPORT_IMAGE: s103_20170102T002918Z (UNSUBMITTED)>,\n",
       " <Task DDHZWF6IQHMU4ANPE56EJNNU EXPORT_IMAGE: s104_20161219T004218Z (UNSUBMITTED)>,\n",
       " <Task 7RTXCO5GW63Y6HPT776QDYKC EXPORT_IMAGE: s104_20161224T003725Z (UNSUBMITTED)>]"
      ]
     },
     "execution_count": 41,
     "metadata": {},
     "output_type": "execute_result"
    }
   ],
   "source": [
    "batch.imagecollection.toDrive(collection, folder='Dataset', verbose=True)"
   ]
  },
  {
   "cell_type": "code",
   "execution_count": null,
   "id": "literary-comedy",
   "metadata": {},
   "outputs": [],
   "source": []
  },
  {
   "cell_type": "code",
   "execution_count": null,
   "id": "banner-sheep",
   "metadata": {},
   "outputs": [],
   "source": []
  },
  {
   "cell_type": "code",
   "execution_count": 43,
   "id": "arctic-paradise",
   "metadata": {},
   "outputs": [],
   "source": [
    "import folium"
   ]
  },
  {
   "cell_type": "code",
   "execution_count": 44,
   "id": "played-antarctica",
   "metadata": {},
   "outputs": [
    {
     "ename": "AttributeError",
     "evalue": "'Map' object has no attribute 'add_ee_layer'",
     "output_type": "error",
     "traceback": [
      "\u001b[1;31m---------------------------------------------------------------------------\u001b[0m",
      "\u001b[1;31mAttributeError\u001b[0m                            Traceback (most recent call last)",
      "\u001b[1;32m<ipython-input-44-9088cb27f0b0>\u001b[0m in \u001b[0;36m<module>\u001b[1;34m\u001b[0m\n\u001b[0;32m      9\u001b[0m \u001b[1;33m\u001b[0m\u001b[0m\n\u001b[0;32m     10\u001b[0m \u001b[1;31m# Add the image layer to the map and display it.\u001b[0m\u001b[1;33m\u001b[0m\u001b[1;33m\u001b[0m\u001b[1;33m\u001b[0m\u001b[0m\n\u001b[1;32m---> 11\u001b[1;33m map_s2.add_ee_layer(\n\u001b[0m\u001b[0;32m     12\u001b[0m     first, {'bands': ['B4', 'B3', 'B2'], 'min': 0, 'max': 2000}, 'first')\n\u001b[0;32m     13\u001b[0m \u001b[0mdisplay\u001b[0m\u001b[1;33m(\u001b[0m\u001b[0mmap_s2\u001b[0m\u001b[1;33m)\u001b[0m\u001b[1;33m\u001b[0m\u001b[1;33m\u001b[0m\u001b[0m\n",
      "\u001b[1;31mAttributeError\u001b[0m: 'Map' object has no attribute 'add_ee_layer'"
     ]
    }
   ],
   "source": [
    "first = (ee.ImageCollection('COPERNICUS/S2_SR')\n",
    "         .filterBounds(ee.Geometry.Point(-70.48, 43.3631))\n",
    "         .filterDate('2019-01-01', '2019-12-31')\n",
    "         .sort('CLOUDY_PIXEL_PERCENTAGE')\n",
    "         .first())\n",
    "\n",
    "# Define a map centered on southern Maine.\n",
    "map_s2 = folium.Map(location=[43.7516, -70.8155], zoom_start=11)\n",
    "\n",
    "# Add the image layer to the map and display it.\n",
    "map_s2.add_ee_layer(\n",
    "    first, {'bands': ['B4', 'B3', 'B2'], 'min': 0, 'max': 2000}, 'first')\n",
    "display(map_s2)"
   ]
  },
  {
   "cell_type": "code",
   "execution_count": 45,
   "id": "exclusive-morris",
   "metadata": {},
   "outputs": [],
   "source": [
    "first = (ee.ImageCollection('COPERNICUS/S2_SR')\n",
    "         .filterBounds(ee.Geometry.Point(-70.48, 43.3631))\n",
    "         .filterDate('2019-01-01', '2019-12-31')\n",
    "         .sort('CLOUDY_PIXEL_PERCENTAGE')\n",
    "         .first())"
   ]
  },
  {
   "cell_type": "code",
   "execution_count": 51,
   "id": "crazy-bathroom",
   "metadata": {},
   "outputs": [
    {
     "data": {
      "text/plain": [
       "<ee.image.Image at 0x23d6d0457c0>"
      ]
     },
     "execution_count": 51,
     "metadata": {},
     "output_type": "execute_result"
    }
   ],
   "source": [
    "image"
   ]
  },
  {
   "cell_type": "code",
   "execution_count": 52,
   "id": "recorded-transmission",
   "metadata": {},
   "outputs": [
    {
     "ename": "EEException",
     "evalue": "Pixel grid dimensions (432000x144000) must be less than or equal to 10000.",
     "output_type": "error",
     "traceback": [
      "\u001b[1;31m---------------------------------------------------------------------------\u001b[0m",
      "\u001b[1;31mHttpError\u001b[0m                                 Traceback (most recent call last)",
      "\u001b[1;32mc:\\users\\kunal\\appdata\\local\\programs\\python\\python38\\lib\\site-packages\\ee\\data.py\u001b[0m in \u001b[0;36m_execute_cloud_call\u001b[1;34m(call, num_retries)\u001b[0m\n\u001b[0;32m    333\u001b[0m   \u001b[1;32mtry\u001b[0m\u001b[1;33m:\u001b[0m\u001b[1;33m\u001b[0m\u001b[1;33m\u001b[0m\u001b[0m\n\u001b[1;32m--> 334\u001b[1;33m     \u001b[1;32mreturn\u001b[0m \u001b[0mcall\u001b[0m\u001b[1;33m.\u001b[0m\u001b[0mexecute\u001b[0m\u001b[1;33m(\u001b[0m\u001b[0mnum_retries\u001b[0m\u001b[1;33m=\u001b[0m\u001b[0mnum_retries\u001b[0m\u001b[1;33m)\u001b[0m\u001b[1;33m\u001b[0m\u001b[1;33m\u001b[0m\u001b[0m\n\u001b[0m\u001b[0;32m    335\u001b[0m   \u001b[1;32mexcept\u001b[0m \u001b[0mgoogleapiclient\u001b[0m\u001b[1;33m.\u001b[0m\u001b[0merrors\u001b[0m\u001b[1;33m.\u001b[0m\u001b[0mHttpError\u001b[0m \u001b[1;32mas\u001b[0m \u001b[0me\u001b[0m\u001b[1;33m:\u001b[0m\u001b[1;33m\u001b[0m\u001b[1;33m\u001b[0m\u001b[0m\n",
      "\u001b[1;32mc:\\users\\kunal\\appdata\\local\\programs\\python\\python38\\lib\\site-packages\\googleapiclient\\_helpers.py\u001b[0m in \u001b[0;36mpositional_wrapper\u001b[1;34m(*args, **kwargs)\u001b[0m\n\u001b[0;32m    133\u001b[0m                     \u001b[0mlogger\u001b[0m\u001b[1;33m.\u001b[0m\u001b[0mwarning\u001b[0m\u001b[1;33m(\u001b[0m\u001b[0mmessage\u001b[0m\u001b[1;33m)\u001b[0m\u001b[1;33m\u001b[0m\u001b[1;33m\u001b[0m\u001b[0m\n\u001b[1;32m--> 134\u001b[1;33m             \u001b[1;32mreturn\u001b[0m \u001b[0mwrapped\u001b[0m\u001b[1;33m(\u001b[0m\u001b[1;33m*\u001b[0m\u001b[0margs\u001b[0m\u001b[1;33m,\u001b[0m \u001b[1;33m**\u001b[0m\u001b[0mkwargs\u001b[0m\u001b[1;33m)\u001b[0m\u001b[1;33m\u001b[0m\u001b[1;33m\u001b[0m\u001b[0m\n\u001b[0m\u001b[0;32m    135\u001b[0m \u001b[1;33m\u001b[0m\u001b[0m\n",
      "\u001b[1;32mc:\\users\\kunal\\appdata\\local\\programs\\python\\python38\\lib\\site-packages\\googleapiclient\\http.py\u001b[0m in \u001b[0;36mexecute\u001b[1;34m(self, http, num_retries)\u001b[0m\n\u001b[0;32m    914\u001b[0m         \u001b[1;32mif\u001b[0m \u001b[0mresp\u001b[0m\u001b[1;33m.\u001b[0m\u001b[0mstatus\u001b[0m \u001b[1;33m>=\u001b[0m \u001b[1;36m300\u001b[0m\u001b[1;33m:\u001b[0m\u001b[1;33m\u001b[0m\u001b[1;33m\u001b[0m\u001b[0m\n\u001b[1;32m--> 915\u001b[1;33m             \u001b[1;32mraise\u001b[0m \u001b[0mHttpError\u001b[0m\u001b[1;33m(\u001b[0m\u001b[0mresp\u001b[0m\u001b[1;33m,\u001b[0m \u001b[0mcontent\u001b[0m\u001b[1;33m,\u001b[0m \u001b[0muri\u001b[0m\u001b[1;33m=\u001b[0m\u001b[0mself\u001b[0m\u001b[1;33m.\u001b[0m\u001b[0muri\u001b[0m\u001b[1;33m)\u001b[0m\u001b[1;33m\u001b[0m\u001b[1;33m\u001b[0m\u001b[0m\n\u001b[0m\u001b[0;32m    916\u001b[0m         \u001b[1;32mreturn\u001b[0m \u001b[0mself\u001b[0m\u001b[1;33m.\u001b[0m\u001b[0mpostproc\u001b[0m\u001b[1;33m(\u001b[0m\u001b[0mresp\u001b[0m\u001b[1;33m,\u001b[0m \u001b[0mcontent\u001b[0m\u001b[1;33m)\u001b[0m\u001b[1;33m\u001b[0m\u001b[1;33m\u001b[0m\u001b[0m\n",
      "\u001b[1;31mHttpError\u001b[0m: <HttpError 400 when requesting https://earthengine.googleapis.com/v1alpha/projects/earthengine-legacy/thumbnails?fields=name&alt=json returned \"Pixel grid dimensions (432000x144000) must be less than or equal to 10000.\". Details: \"Pixel grid dimensions (432000x144000) must be less than or equal to 10000.\">",
      "\nDuring handling of the above exception, another exception occurred:\n",
      "\u001b[1;31mEEException\u001b[0m                               Traceback (most recent call last)",
      "\u001b[1;32m<ipython-input-52-76c7f27a24f9>\u001b[0m in \u001b[0;36m<module>\u001b[1;34m\u001b[0m\n\u001b[0;32m      3\u001b[0m \u001b[0mee\u001b[0m\u001b[1;33m.\u001b[0m\u001b[0mInitialize\u001b[0m\u001b[1;33m(\u001b[0m\u001b[1;33m)\u001b[0m\u001b[1;33m\u001b[0m\u001b[1;33m\u001b[0m\u001b[0m\n\u001b[0;32m      4\u001b[0m \u001b[0mimage\u001b[0m \u001b[1;33m=\u001b[0m \u001b[0mee\u001b[0m\u001b[1;33m.\u001b[0m\u001b[0mImage\u001b[0m\u001b[1;33m(\u001b[0m\u001b[1;34m'srtm90_v4'\u001b[0m\u001b[1;33m)\u001b[0m\u001b[1;33m\u001b[0m\u001b[1;33m\u001b[0m\u001b[0m\n\u001b[1;32m----> 5\u001b[1;33m \u001b[0murl\u001b[0m \u001b[1;33m=\u001b[0m \u001b[0mimage\u001b[0m\u001b[1;33m.\u001b[0m\u001b[0mgetThumbURL\u001b[0m\u001b[1;33m(\u001b[0m\u001b[1;33m{\u001b[0m\u001b[1;34m'min'\u001b[0m\u001b[1;33m:\u001b[0m\u001b[1;36m0\u001b[0m\u001b[1;33m,\u001b[0m\u001b[1;34m'max'\u001b[0m\u001b[1;33m:\u001b[0m\u001b[1;36m3000\u001b[0m\u001b[1;33m}\u001b[0m\u001b[1;33m)\u001b[0m\u001b[1;33m\u001b[0m\u001b[1;33m\u001b[0m\u001b[0m\n\u001b[0m\u001b[0;32m      6\u001b[0m \u001b[0mImage\u001b[0m\u001b[1;33m(\u001b[0m\u001b[0murl\u001b[0m\u001b[1;33m=\u001b[0m\u001b[0murl\u001b[0m\u001b[1;33m)\u001b[0m\u001b[1;33m\u001b[0m\u001b[1;33m\u001b[0m\u001b[0m\n",
      "\u001b[1;32mc:\\users\\kunal\\appdata\\local\\programs\\python\\python38\\lib\\site-packages\\ee\\image.py\u001b[0m in \u001b[0;36mgetThumbURL\u001b[1;34m(self, params)\u001b[0m\n\u001b[0;32m    501\u001b[0m     \u001b[1;31m# If it isn't enabled, we have to be bug-for-bug compatible with current\u001b[0m\u001b[1;33m\u001b[0m\u001b[1;33m\u001b[0m\u001b[1;33m\u001b[0m\u001b[0m\n\u001b[0;32m    502\u001b[0m     \u001b[1;31m# behaviour.\u001b[0m\u001b[1;33m\u001b[0m\u001b[1;33m\u001b[0m\u001b[1;33m\u001b[0m\u001b[0m\n\u001b[1;32m--> 503\u001b[1;33m     \u001b[1;32mreturn\u001b[0m \u001b[0mdata\u001b[0m\u001b[1;33m.\u001b[0m\u001b[0mmakeThumbUrl\u001b[0m\u001b[1;33m(\u001b[0m\u001b[0mself\u001b[0m\u001b[1;33m.\u001b[0m\u001b[0mgetThumbId\u001b[0m\u001b[1;33m(\u001b[0m\u001b[0mparams\u001b[0m\u001b[1;33m)\u001b[0m\u001b[1;33m)\u001b[0m\u001b[1;33m\u001b[0m\u001b[1;33m\u001b[0m\u001b[0m\n\u001b[0m\u001b[0;32m    504\u001b[0m \u001b[1;33m\u001b[0m\u001b[0m\n\u001b[0;32m    505\u001b[0m   \u001b[1;31m# Deprecated spellings to match the JS library.\u001b[0m\u001b[1;33m\u001b[0m\u001b[1;33m\u001b[0m\u001b[1;33m\u001b[0m\u001b[0m\n",
      "\u001b[1;32mc:\\users\\kunal\\appdata\\local\\programs\\python\\python38\\lib\\site-packages\\ee\\image.py\u001b[0m in \u001b[0;36mgetThumbId\u001b[1;34m(self, params)\u001b[0m\n\u001b[0;32m    474\u001b[0m     \u001b[0mimage\u001b[0m\u001b[1;33m,\u001b[0m \u001b[0mparams\u001b[0m \u001b[1;33m=\u001b[0m \u001b[0mimage\u001b[0m\u001b[1;33m.\u001b[0m\u001b[0m_apply_visualization\u001b[0m\u001b[1;33m(\u001b[0m\u001b[0mparams\u001b[0m\u001b[1;33m)\u001b[0m  \u001b[1;31m# pylint: disable=protected-access\u001b[0m\u001b[1;33m\u001b[0m\u001b[1;33m\u001b[0m\u001b[0m\n\u001b[0;32m    475\u001b[0m     \u001b[0mparams\u001b[0m\u001b[1;33m[\u001b[0m\u001b[1;34m'image'\u001b[0m\u001b[1;33m]\u001b[0m \u001b[1;33m=\u001b[0m \u001b[0mimage\u001b[0m\u001b[1;33m\u001b[0m\u001b[1;33m\u001b[0m\u001b[0m\n\u001b[1;32m--> 476\u001b[1;33m     \u001b[1;32mreturn\u001b[0m \u001b[0mdata\u001b[0m\u001b[1;33m.\u001b[0m\u001b[0mgetThumbId\u001b[0m\u001b[1;33m(\u001b[0m\u001b[0mparams\u001b[0m\u001b[1;33m)\u001b[0m\u001b[1;33m\u001b[0m\u001b[1;33m\u001b[0m\u001b[0m\n\u001b[0m\u001b[0;32m    477\u001b[0m \u001b[1;33m\u001b[0m\u001b[0m\n\u001b[0;32m    478\u001b[0m   \u001b[1;32mdef\u001b[0m \u001b[0mgetThumbURL\u001b[0m\u001b[1;33m(\u001b[0m\u001b[0mself\u001b[0m\u001b[1;33m,\u001b[0m \u001b[0mparams\u001b[0m\u001b[1;33m=\u001b[0m\u001b[1;32mNone\u001b[0m\u001b[1;33m)\u001b[0m\u001b[1;33m:\u001b[0m\u001b[1;33m\u001b[0m\u001b[1;33m\u001b[0m\u001b[0m\n",
      "\u001b[1;32mc:\\users\\kunal\\appdata\\local\\programs\\python\\python38\\lib\\site-packages\\ee\\data.py\u001b[0m in \u001b[0;36mgetThumbId\u001b[1;34m(params, thumbType)\u001b[0m\n\u001b[0;32m    784\u001b[0m     request['bandIds'] = _cloud_api_utils.convert_to_band_list(\n\u001b[0;32m    785\u001b[0m         params.get('bands'))\n\u001b[1;32m--> 786\u001b[1;33m     result = _execute_cloud_call(\n\u001b[0m\u001b[0;32m    787\u001b[0m         _get_cloud_api_resource().projects().thumbnails().create(\n\u001b[0;32m    788\u001b[0m             parent=_get_projects_path(), fields='name', body=request))\n",
      "\u001b[1;32mc:\\users\\kunal\\appdata\\local\\programs\\python\\python38\\lib\\site-packages\\ee\\data.py\u001b[0m in \u001b[0;36m_execute_cloud_call\u001b[1;34m(call, num_retries)\u001b[0m\n\u001b[0;32m    334\u001b[0m     \u001b[1;32mreturn\u001b[0m \u001b[0mcall\u001b[0m\u001b[1;33m.\u001b[0m\u001b[0mexecute\u001b[0m\u001b[1;33m(\u001b[0m\u001b[0mnum_retries\u001b[0m\u001b[1;33m=\u001b[0m\u001b[0mnum_retries\u001b[0m\u001b[1;33m)\u001b[0m\u001b[1;33m\u001b[0m\u001b[1;33m\u001b[0m\u001b[0m\n\u001b[0;32m    335\u001b[0m   \u001b[1;32mexcept\u001b[0m \u001b[0mgoogleapiclient\u001b[0m\u001b[1;33m.\u001b[0m\u001b[0merrors\u001b[0m\u001b[1;33m.\u001b[0m\u001b[0mHttpError\u001b[0m \u001b[1;32mas\u001b[0m \u001b[0me\u001b[0m\u001b[1;33m:\u001b[0m\u001b[1;33m\u001b[0m\u001b[1;33m\u001b[0m\u001b[0m\n\u001b[1;32m--> 336\u001b[1;33m     \u001b[1;32mraise\u001b[0m \u001b[0m_translate_cloud_exception\u001b[0m\u001b[1;33m(\u001b[0m\u001b[0me\u001b[0m\u001b[1;33m)\u001b[0m\u001b[1;33m\u001b[0m\u001b[1;33m\u001b[0m\u001b[0m\n\u001b[0m\u001b[0;32m    337\u001b[0m \u001b[1;33m\u001b[0m\u001b[0m\n\u001b[0;32m    338\u001b[0m \u001b[1;33m\u001b[0m\u001b[0m\n",
      "\u001b[1;31mEEException\u001b[0m: Pixel grid dimensions (432000x144000) must be less than or equal to 10000."
     ]
    }
   ],
   "source": [
    "import ee\n",
    "from IPython.display import Image,display\n",
    "ee.Initialize()\n",
    "image = ee.Image('srtm90_v4')\n",
    "url = image.getThumbURL({'min':0,'max':3000})\n",
    "Image(url=url) "
   ]
  },
  {
   "cell_type": "code",
   "execution_count": null,
   "id": "informative-retro",
   "metadata": {},
   "outputs": [],
   "source": []
  }
 ],
 "metadata": {
  "kernelspec": {
   "display_name": "Python 3",
   "language": "python",
   "name": "python3"
  },
  "language_info": {
   "codemirror_mode": {
    "name": "ipython",
    "version": 3
   },
   "file_extension": ".py",
   "mimetype": "text/x-python",
   "name": "python",
   "nbconvert_exporter": "python",
   "pygments_lexer": "ipython3",
   "version": "3.8.6"
  }
 },
 "nbformat": 4,
 "nbformat_minor": 5
}
