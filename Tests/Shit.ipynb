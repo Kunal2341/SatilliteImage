{
 "cells": [
  {
   "cell_type": "code",
   "execution_count": null,
   "id": "effective-custom",
   "metadata": {},
   "outputs": [],
   "source": [
    "from selenium.webdriver.common.keys import Keys\n",
    "from selenium import webdriver\n",
    "import time"
   ]
  },
  {
   "cell_type": "code",
   "execution_count": 1,
   "id": "cardiovascular-flush",
   "metadata": {},
   "outputs": [],
   "source": [
    "from webdriver_manager.chrome import ChromeDriverManager\n",
    "#from selenium.webdriver.support.ui import WebDriverWait\n",
    "#from selenium.webdriver.common.by import By\n",
    "#from selenium.webdriver.support import expected_conditions as EC"
   ]
  },
  {
   "cell_type": "markdown",
   "id": "chinese-leone",
   "metadata": {},
   "source": [
    "# Import"
   ]
  },
  {
   "cell_type": "code",
   "execution_count": 2,
   "id": "global-broadcast",
   "metadata": {},
   "outputs": [],
   "source": [
    "link = \"https://earthexplorer.usgs.gov/\""
   ]
  },
  {
   "cell_type": "code",
   "execution_count": 3,
   "id": "competitive-iceland",
   "metadata": {},
   "outputs": [
    {
     "name": "stderr",
     "output_type": "stream",
     "text": [
      "[WDM] - Current google-chrome version is 89.0.4389\n",
      "[WDM] - Get LATEST driver version for 89.0.4389\n",
      "[WDM] - Get LATEST driver version for 89.0.4389\n",
      "[WDM] - Trying to download new driver from http://chromedriver.storage.googleapis.com/89.0.4389.23/chromedriver_win32.zip\n"
     ]
    },
    {
     "name": "stdout",
     "output_type": "stream",
     "text": [
      " \n"
     ]
    },
    {
     "name": "stderr",
     "output_type": "stream",
     "text": [
      "[WDM] - Driver has been saved in cache [C:\\Users\\kunal\\.wdm\\drivers\\chromedriver\\win32\\89.0.4389.23]\n"
     ]
    }
   ],
   "source": [
    "#options = webdriver.ChromeOptions() \n",
    "#options.add_argument(\"start-maximized\")\n",
    "#options.add_experimental_option(\"excludeSwitches\", [\"enable-automation\"])\n",
    "#options.add_experimental_option('useAutomationExtension', False)\n",
    "driver = webdriver.Chrome(executable_path=ChromeDriverManager().install())"
   ]
  },
  {
   "cell_type": "markdown",
   "id": "dimensional-platform",
   "metadata": {},
   "source": [
    "# Boot up USGS website and login in using details and input data"
   ]
  },
  {
   "cell_type": "code",
   "execution_count": 4,
   "id": "structured-headline",
   "metadata": {},
   "outputs": [],
   "source": [
    "driver.get(link)\n",
    "driver.find_element_by_xpath(\"/html/body/nav/div/ul[2]/li[3]/a\").click() #login\n",
    "driver.find_element_by_xpath(\"/html/body/div/div[2]/form/div[1]/div[1]/input\").send_keys(\"car-detection-sat\") #username\n",
    "driver.find_element_by_xpath(\"/html/body/div/div[2]/form/div[1]/div[2]/input\").send_keys(\"MDKvB2WV|PDe#dc\") #password\n",
    "driver.find_element_by_xpath(\"/html/body/div/div[2]/form/input[2]\").click() #password\n",
    "driver.find_element_by_xpath(\"/html/body/div[1]/div/div/div[2]/div[2]/div[1]/div[3]/div[2]\").click() # circle tab\n",
    "driver.find_element_by_xpath(\"/html/body/div[1]/div/div/div[2]/div[2]/div[1]/div[4]/div[2]/div[1]/div[1]/div[1]/input\").send_keys(\"34.076607557119026\") # lat\n",
    "driver.find_element_by_xpath(\"/html/body/div[1]/div/div/div[2]/div[2]/div[1]/div[4]/div[2]/div[1]/div[2]/input\").send_keys(\"-84.25672067239206\") #long\n",
    "driver.find_element_by_xpath(\"/html/body/div[1]/div/div/div[2]/div[2]/div[1]/div[4]/div[2]/div[1]/div[1]/div[2]/input\").send_keys(\"100\") #radius\n",
    "driver.find_element_by_xpath(\"/html/body/div[1]/div/div/div[2]/div[2]/div[1]/div[4]/div[2]/div[2]/input[1]\").click() #apply\n",
    "driver.find_element_by_xpath(\"/html/body/div[1]/div/div/div[2]/div[2]/div[1]/div[6]/div[1]/input[1]\").send_keys(\"07/10/2018\") #start date\n",
    "driver.find_element_by_xpath(\"/html/body/div[1]/div/div/div[2]/div[2]/div[1]/div[6]/div[1]/input[2]\").send_keys(\"08/10/2018\") #end date\n",
    "driver.find_element_by_xpath(\"/html/body/div[1]/div/div/div[2]/div[2]/div[1]/div[10]/input[1]\").click() #dataset button"
   ]
  },
  {
   "cell_type": "code",
   "execution_count": 5,
   "id": "sixth-debut",
   "metadata": {},
   "outputs": [],
   "source": [
    "#main1 = \"/html/body/div[1]/div/div/div[2]/div[2]/div[2]/div[3]/div[1]/ul/li[1]/div\"\n",
    "#main2 = \"/html/body/div[1]/div/div/div[2]/div[2]/div[2]/div[3]/div[1]/ul/li[2]/div\""
   ]
  },
  {
   "cell_type": "markdown",
   "id": "included-illustration",
   "metadata": {},
   "source": [
    "# All possible dataset Titles"
   ]
  },
  {
   "cell_type": "code",
   "execution_count": 6,
   "id": "golden-assessment",
   "metadata": {},
   "outputs": [],
   "source": [
    "default = \"/html/body/div[1]/div/div/div[2]/div[2]/div[2]/div[3]/div[1]/ul/li[<INSERT>]/div\"\n",
    "lstofMain = []\n",
    "for i in range(21):\n",
    "    lstofMain.append(default.replace(\"<INSERT>\", str(i+1)))"
   ]
  },
  {
   "cell_type": "markdown",
   "id": "colonial-virus",
   "metadata": {},
   "source": [
    "# Let Datasets load in"
   ]
  },
  {
   "cell_type": "code",
   "execution_count": 7,
   "id": "popular-exposure",
   "metadata": {},
   "outputs": [],
   "source": [
    "while(True):\n",
    "    try:\n",
    "        txt = driver.find_element_by_xpath(\"/html/body/div[1]/div/div/div[2]/div[2]/div[2]/div[3]/div[1]/div/strong\").text\n",
    "        if txt == \"Please wait while the Data Sets are loaded.\":\n",
    "            time.sleep(1)\n",
    "        else:\n",
    "            break\n",
    "    except:\n",
    "        break"
   ]
  },
  {
   "cell_type": "markdown",
   "id": "civic-french",
   "metadata": {},
   "source": [
    "# List of datasets"
   ]
  },
  {
   "cell_type": "code",
   "execution_count": 8,
   "id": "electronic-syndicate",
   "metadata": {},
   "outputs": [
    {
     "name": "stdout",
     "output_type": "stream",
     "text": [
      "Aerial Imagery\n",
      "AVHRR\n",
      "CEOS Legacy\n",
      "Commercial Satellites\n",
      "Declassified Data\n",
      "Digital Elevation\n",
      "Digital Line Graphs\n",
      "Digital Maps\n",
      "EO-1\n",
      "Global Fiducials\n",
      "HCMM\n",
      "ISERV\n",
      "Land Cover\n",
      "Landsat\n",
      "LCMAP\n",
      "NASA LPDAAC Collections\n",
      "Radar\n",
      "Sentinel\n",
      "UAS\n",
      "Vegetation Monitoring\n",
      "ISRO Resourcesat\n"
     ]
    }
   ],
   "source": [
    "lstDataSetMain = [\"Aerial Imagery\",\"AVHRR\",\"CEOS Legacy\", \"Commercial Satellites\",\"Declassified Data\",\"Digital Elevation\",\n",
    "                  \"Digital Line Graphs\",\"Digital Maps\",\"EO-1\",\"Global Fiducials\",\"HCMM\",\"ISERV\",\"Land Cover\",\"Landsat\",\n",
    "                  \"LCMAP\",\"NASA LPDAAC Collections\",\"Radar\",\"Sentinel\",\"UAS\",\"Vegetation Monitoring\",\"ISRO Resourcesat\"]\n",
    "time.sleep(1)\n",
    "for i in lstofMain:\n",
    "    #driver.find_element_by_xpath(i).click()\n",
    "    print(driver.find_element_by_xpath(i[:-3] + \"span/div/strong\").text)"
   ]
  },
  {
   "cell_type": "code",
   "execution_count": 9,
   "id": "fatty-toyota",
   "metadata": {},
   "outputs": [],
   "source": [
    "skipDatas = [\"Vegetation Monitoring\", \"CEOS Legacy\"]"
   ]
  },
  {
   "cell_type": "code",
   "execution_count": 10,
   "id": "complex-irish",
   "metadata": {
    "scrolled": false
   },
   "outputs": [
    {
     "name": "stdout",
     "output_type": "stream",
     "text": [
      "Aerial Imagery\n",
      "\tClicked -ASAS\n",
      "\tClicked -Aerial Photo Mosaics\n",
      "\tClicked -Aerial Photo Single Frames\n",
      "\tClicked -Aircraft Scanners\n",
      "\tClicked -Antarctic Flight Line Maps\n",
      "\tClicked -Antarctic Single Frames\n",
      "\tClicked -DOQ\n",
      "\tClicked -High Resolution Orthoimagery\n",
      "\tClicked -NAIP\n",
      "\tClicked -NHAP\n",
      "\tClicked -NAPP\n",
      "\tClicked -PAO Image Gallery\n",
      "\tClicked -SD NRCS Section Photos\n",
      "\tClicked -SLAR\n",
      "\tClicked -Space Acquired Photography\n",
      "Final --> 15\n",
      "====================\n",
      "AVHRR\n",
      "\tClicked -AVHRR Global 1K\n",
      "\tClicked -AVHRR Composites\n",
      "\tClicked -AVHRR Orbital Segment\n",
      "Final --> 3\n",
      "====================\n",
      "Commercial Satellites\n",
      "\tClicked -IKONOS-2\n",
      "\tClicked -OrbView-3\n",
      "Final --> 2\n",
      "====================\n",
      "Declassified Data\n",
      "\tClicked -Declass 1 (1996)\n",
      "\tClicked -Declass 2 (2002)\n",
      "\tClicked -Declass 3 (2013)\n",
      "Final --> 3\n",
      "====================\n",
      "Digital Elevation\n",
      "\tClicked -CoNED TBDEM\n",
      "\tClicked -EDNA\n",
      "\tClicked -GMTED2010\n",
      "\tClicked -GTOPO30\n",
      "Final --> 4\n",
      "====================\n",
      "Digital Line Graphs\n",
      "\tClicked -DLG 1:100k\n",
      "\tClicked -DLG Large Scale\n",
      "Final --> 2\n",
      "====================\n",
      "Digital Maps\n",
      "\tClicked -National Atlas\n",
      "Final --> 1\n",
      "====================\n",
      "EO-1\n",
      "\tClicked -EO-1 ALI\n",
      "\tClicked -EO-1 ALI Privileged\n",
      "\tClicked -EO-1 Hyperion\n",
      "Final --> 3\n",
      "====================\n",
      "Global Fiducials\n",
      "\tClicked -USGS Global Fiducials\n",
      "Final --> 1\n",
      "====================\n",
      "HCMM\n",
      "\tClicked -HCMM\n",
      "\tClicked -HCMM Digital Source\n",
      "Final --> 2\n",
      "====================\n",
      "ISERV\n",
      "\tClicked -ISERV\n",
      "Final --> 1\n",
      "====================\n",
      "Land Cover\n",
      "\tClicked -GLCC\n",
      "\tClicked -Land Cover Trends Photos\n",
      "Final --> 2\n",
      "====================\n",
      "Landsat\n",
      "====================\n",
      "LCMAP\n",
      "\tClicked -CCDC V1\n",
      "Final --> 1\n",
      "====================\n",
      "NASA LPDAAC Collections\n",
      "====================\n",
      "Radar\n",
      "\tClicked -IFSAR ORI Alaska\n",
      "\tClicked -SIR-C\n",
      "\tClicked -SIR-C Survey\n",
      "Final --> 3\n",
      "====================\n",
      "Sentinel\n",
      "\tClicked -Sentinel-2\n",
      "Final --> 1\n",
      "====================\n",
      "UAS\n",
      "\tClicked -UAS - Raw\n",
      "\tClicked -UAS - Ortho\n",
      "\tClicked -UAS - Point Cloud\n",
      "\tClicked -UAS - DEM\n",
      "Final --> 4\n",
      "====================\n",
      "ISRO Resourcesat\n",
      "\tClicked -IRS AWiFS\n",
      "\tClicked -IRS LISS-3\n",
      "Final --> 2\n",
      "====================\n"
     ]
    }
   ],
   "source": [
    "time.sleep(1)\n",
    "for i in lstofMain:\n",
    "    mainDataSetName = driver.find_element_by_xpath(i[:-3] + \"span/div/strong\").text\n",
    "    if mainDataSetName in skipDatas:\n",
    "        continue\n",
    "    print(mainDataSetName)\n",
    "    driver.find_element_by_xpath(i).click()\n",
    "    \n",
    "    try:\n",
    "        #Check if there is a first possible dataset checkbox\n",
    "        driver.find_element_by_xpath(i[:-3] + \"ul/li[1]/span/div[1]/input\")\n",
    "        dataSetNum = 1\n",
    "        while(True):\n",
    "            try:\n",
    "                #If Button has popped up close it\n",
    "                try:\n",
    "                    driver.find_element_by_xpath(\"/html/body/div[6]/div[3]/div/button[1]\").click()\n",
    "                except:\n",
    "                    pass\n",
    "                \n",
    "                \n",
    "                #try to get name\n",
    "                dataSetName = \"\"\n",
    "                try:\n",
    "                    dataSetName = driver.find_element_by_xpath(i[:-3] + \"ul/li[<CHANGE>]/span/div[4]/label\".replace(\"<CHANGE>\", str(dataSetNum))).text\n",
    "                except:\n",
    "                    try: \n",
    "                        dataSetName = driver.find_element_by_xpath(i[:-3] + \"ul/li[<CHANGE>]/span/div[5]/label\".replace(\"<CHANGE>\", str(dataSetNum))).text\n",
    "                    except:\n",
    "                        try:\n",
    "                            dataSetName = driver.find_element_by_xpath(i[:-3] + \"ul/li[<CHANGE>]/span/div[3]/label\".replace(\"<CHANGE>\", str(dataSetNum))).text\n",
    "                        except:\n",
    "                            dataSetName = \"Unable to get dataset Name\"\n",
    "                \n",
    "                \n",
    "                #Click checkbox\n",
    "                driver.find_element_by_xpath(i[:-3] + \"ul/li[<CHANGE>]/span/div[1]/input\".replace(\"<CHANGE>\", str(dataSetNum))).click()\n",
    "                print(\"\\tClicked -\" + dataSetName)\n",
    "                \n",
    "                \n",
    "            except:\n",
    "                \n",
    "                print(\"Final --> \" + str(dataSetNum-1))\n",
    "                print(\"==\"*10)\n",
    "                break\n",
    "            \n",
    "            dataSetNum+=1\n",
    "    except:\n",
    "        \n",
    "        print(\"==\"*10)\n",
    "    #Click button again if needed\n",
    "    try:\n",
    "        driver.find_element_by_xpath(\"/html/body/div[6]/div[3]/div/button[1]\").click()\n",
    "    except:\n",
    "        pass"
   ]
  },
  {
   "cell_type": "code",
   "execution_count": null,
   "id": "previous-roots",
   "metadata": {},
   "outputs": [],
   "source": []
  },
  {
   "cell_type": "code",
   "execution_count": null,
   "id": "norwegian-hampton",
   "metadata": {},
   "outputs": [],
   "source": []
  },
  {
   "cell_type": "code",
   "execution_count": null,
   "id": "activated-memory",
   "metadata": {},
   "outputs": [],
   "source": []
  },
  {
   "cell_type": "code",
   "execution_count": null,
   "id": "south-regression",
   "metadata": {},
   "outputs": [],
   "source": [
    "print(\"Extract Sub DataSet Detected\")\n",
    "        subSetBigDataNum = 1\n",
    "        while(True):\n",
    "            try:\n",
    "                driver.find_element_by_xpath(i[:-3] + \"ul/li[<EDIT>]/div\".replace(\"<EDIT>\", str(subSetBigDataNum))).click()\n",
    "                newMain = i[:-3] + \"ul/li[<EDIT>]/div\".replace(\"<EDIT>\", str(subSetBigDataNum))[:-3]\n",
    "                try:\n",
    "                    #Check if there is a first possible dataset checkbox\n",
    "                    driver.find_element_by_xpath(newMain[:-3] + \"ul/li[1]/span/div[1]/input\")\n",
    "                    dataSetNum = 1\n",
    "                    while(True):\n",
    "                        try:\n",
    "                            #If Button has popped up close it\n",
    "                            try:\n",
    "                                driver.find_element_by_xpath(\"/html/body/div[6]/div[3]/div/button[1]\").click()\n",
    "                            except:\n",
    "                                pass\n",
    "\n",
    "\n",
    "                            #try to get name\n",
    "                            dataSetName = \"\"\n",
    "                            try:\n",
    "                                dataSetName = driver.find_element_by_xpath(newMain[:-3] + \"ul/li[<CHANGE>]/span/div[4]/label\".replace(\"<CHANGE>\", str(dataSetNum))).text\n",
    "                            except:\n",
    "                                try: \n",
    "                                    dataSetName = driver.find_element_by_xpath(newMain[:-3] + \"ul/li[<CHANGE>]/span/div[5]/label\".replace(\"<CHANGE>\", str(dataSetNum))).text\n",
    "                                except:\n",
    "                                    try:\n",
    "                                        dataSetName = driver.find_element_by_xpath(newMain[:-3] + \"ul/li[<CHANGE>]/span/div[3]/label\".replace(\"<CHANGE>\", str(dataSetNum))).text\n",
    "                                    except:\n",
    "                                        dataSetName = \"Unable to get dataset Name\"\n",
    "\n",
    "\n",
    "                            #Click checkbox\n",
    "                            driver.find_element_by_xpath(newMain[:-3] + \"ul/li[<CHANGE>]/span/div[1]/input\".replace(\"<CHANGE>\", str(dataSetNum))).click()\n",
    "                            print(\"\\tClicked -\" + dataSetName)\n",
    "                        except:\n",
    "\n",
    "                            print(\"Final --> \" + str(dataSetNum-1))\n",
    "                            print(\"==\"*10)\n",
    "                            break\n",
    "\n",
    "                        dataSetNum+=1\n",
    "            except:\n",
    "                print(\"Fk\")\n",
    "        except:\n",
    "            print(\"asdf\")\n",
    "            subSetBigDataNum+=1\n",
    "        \n",
    "        "
   ]
  },
  {
   "cell_type": "markdown",
   "id": "weird-alliance",
   "metadata": {},
   "source": [
    "# Insert code to search through all datasets"
   ]
  },
  {
   "cell_type": "code",
   "execution_count": null,
   "id": "straight-respondent",
   "metadata": {},
   "outputs": [],
   "source": []
  },
  {
   "cell_type": "markdown",
   "id": "vietnamese-championship",
   "metadata": {},
   "source": [
    "# Insert Code to download data"
   ]
  },
  {
   "cell_type": "code",
   "execution_count": 14,
   "id": "legislative-armenia",
   "metadata": {},
   "outputs": [],
   "source": [
    "driver.quit()"
   ]
  },
  {
   "cell_type": "code",
   "execution_count": null,
   "id": "recognized-transmission",
   "metadata": {},
   "outputs": [],
   "source": []
  },
  {
   "cell_type": "code",
   "execution_count": 35,
   "id": "dynamic-shopping",
   "metadata": {},
   "outputs": [],
   "source": [
    "midLat, midLong = 34.61085, -84.29385\n",
    "ULLat, ULLong = 35.66937, -85.51059\n",
    "URLat, URLong = 35.61239, -83.00840\n",
    "LLLat, LLLong = 33.58420, -85.54740\n",
    "LRLat, LRLong = 33.53146, -83.10680\n"
   ]
  },
  {
   "cell_type": "code",
   "execution_count": 43,
   "id": "grateful-prevention",
   "metadata": {},
   "outputs": [],
   "source": [
    "mainLat = 34.076607557119026\n",
    "mainLong = -84.25672067239206"
   ]
  },
  {
   "cell_type": "code",
   "execution_count": 74,
   "id": "reflected-russia",
   "metadata": {},
   "outputs": [
    {
     "name": "stdout",
     "output_type": "stream",
     "text": [
      "\n",
      "\t\t\t\t742384.3912804977\n",
      "\t\t--------------------------------------------------\n",
      "\t\t||\t\t\t\t\t\t||\n",
      "\t\t||\t\t\t\t\t\t||\n",
      "\t\t||\t\t\t\t\t\t||\n",
      "\t761052.8||\t\t\t\t\t\t||760000.46\n",
      "\t\t||\t\t\t\t\t\t||\n",
      "\t\t||\t\t\t\t\t\t||\n",
      "\t\t||\t\t\t\t\t\t||\n",
      "\t\t--------------------------------------------------\n",
      "\t\t\t\t742465.3124813217\n"
     ]
    }
   ],
   "source": [
    "print(\"\")\n",
    "print(\"\\t\\t\\t\\t\" + str(distanceBetween(ULLat, ULLong,URLat, URLong)))\n",
    "print(\"\\t\\t\"+\"-\"*50)\n",
    "print(\"\\t\\t||\\t\\t\\t\\t\\t\\t||\")\n",
    "print(\"\\t\\t||\\t\\t\\t\\t\\t\\t||\")\n",
    "print(\"\\t\\t||\\t\\t\\t\\t\\t\\t||\")\n",
    "print(\"\\t\" + str(round(distanceBetween(ULLat, ULLong,LLLat, LLLong),2)) + \"||\\t\\t\\t\\t\\t\\t||\" + str(round(distanceBetween(URLat, URLong,LRLat, LRLong),2)))\n",
    "print(\"\\t\\t||\\t\\t\\t\\t\\t\\t||\")\n",
    "print(\"\\t\\t||\\t\\t\\t\\t\\t\\t||\")\n",
    "print(\"\\t\\t||\\t\\t\\t\\t\\t\\t||\")\n",
    "print(\"\\t\\t\"+\"-\"*50)\n",
    "print(\"\\t\\t\\t\\t\" + str(distanceBetween(LLLat, LLLong,LRLat, LRLong)))\n"
   ]
  },
  {
   "cell_type": "code",
   "execution_count": null,
   "id": "favorite-drove",
   "metadata": {},
   "outputs": [],
   "source": []
  },
  {
   "cell_type": "code",
   "execution_count": 44,
   "id": "conditional-marker",
   "metadata": {},
   "outputs": [
    {
     "name": "stdout",
     "output_type": "stream",
     "text": [
      "530160.8767709172\n",
      "529954.3971113747\n",
      "532803.1323085449\n",
      "532851.2385838114\n"
     ]
    }
   ],
   "source": [
    "print(distanceBetween(midLat,midLong,ULLat, ULLong))\n",
    "print(distanceBetween(midLat,midLong,URLat, URLong))\n",
    "print(distanceBetween(midLat,midLong,LLLat, LLLong))\n",
    "print(distanceBetween(midLat,midLong,LRLat, LRLong))"
   ]
  },
  {
   "cell_type": "code",
   "execution_count": 76,
   "id": "earned-evidence",
   "metadata": {},
   "outputs": [
    {
     "name": "stdout",
     "output_type": "stream",
     "text": [
      "691947.5658366001\n",
      "673723.4362324451\n",
      "430565.0283208094\n",
      "401469.6065010111\n"
     ]
    }
   ],
   "source": [
    "print(distanceBetween(mainLat,mainLong,ULLat, ULLong))\n",
    "print(distanceBetween(mainLat,mainLong,URLat, URLong))\n",
    "print(distanceBetween(mainLat,mainLong,LLLat, LLLong))\n",
    "print(distanceBetween(mainLat,mainLong,LRLat, LRLong))"
   ]
  },
  {
   "cell_type": "code",
   "execution_count": null,
   "id": "simplified-paragraph",
   "metadata": {},
   "outputs": [],
   "source": []
  },
  {
   "cell_type": "code",
   "execution_count": null,
   "id": "major-domestic",
   "metadata": {},
   "outputs": [],
   "source": []
  },
  {
   "cell_type": "code",
   "execution_count": 79,
   "id": "adjusted-carrier",
   "metadata": {},
   "outputs": [],
   "source": [
    "a = distanceBetween(ULLat, ULLong, LLLat, LLLong)\n",
    "b = distanceBetween(ULLat, ULLong, mainLat, mainLong)\n",
    "c = distanceBetween(LLLat, LLLong, mainLat, mainLong)"
   ]
  },
  {
   "cell_type": "code",
   "execution_count": 80,
   "id": "pharmaceutical-conclusion",
   "metadata": {},
   "outputs": [],
   "source": [
    "height = 0.5 * sqrt((a + b + c) * (-a + b + c) * (a - b + c) * (a + b - c)) / b"
   ]
  },
  {
   "cell_type": "code",
   "execution_count": 81,
   "id": "executive-familiar",
   "metadata": {},
   "outputs": [
    {
     "data": {
      "text/plain": [
       "426164.08403744537"
      ]
     },
     "execution_count": 81,
     "metadata": {},
     "output_type": "execute_result"
    }
   ],
   "source": [
    "height"
   ]
  },
  {
   "cell_type": "code",
   "execution_count": null,
   "id": "decent-latitude",
   "metadata": {},
   "outputs": [],
   "source": [
    "a = distanceBetween(URLat, URLong, LRLat, LRLong)\n",
    "b = distanceBetween(URLat, URLong, mainLat, mainLong)\n",
    "c = distanceBetween(LRLat, LRLong, mainLat, mainLong)"
   ]
  },
  {
   "cell_type": "code",
   "execution_count": 82,
   "id": "miniature-circular",
   "metadata": {},
   "outputs": [],
   "source": [
    "height = 0.5 * sqrt((a + b + c) * (-a + b + c) * (a - b + c) * (a + b - c)) / b"
   ]
  },
  {
   "cell_type": "code",
   "execution_count": 83,
   "id": "forward-treatment",
   "metadata": {},
   "outputs": [
    {
     "data": {
      "text/plain": [
       "426164.08403744537"
      ]
     },
     "execution_count": 83,
     "metadata": {},
     "output_type": "execute_result"
    }
   ],
   "source": [
    "height"
   ]
  },
  {
   "cell_type": "code",
   "execution_count": 84,
   "id": "nonprofit-shadow",
   "metadata": {},
   "outputs": [
    {
     "data": {
      "text/plain": [
       "852328.1680748907"
      ]
     },
     "execution_count": 84,
     "metadata": {},
     "output_type": "execute_result"
    }
   ],
   "source": [
    "426164.08403744537+426164.08403744537"
   ]
  },
  {
   "cell_type": "code",
   "execution_count": 85,
   "id": "fatal-oxford",
   "metadata": {},
   "outputs": [
    {
     "data": {
      "text/plain": [
       "742465.3124813217"
      ]
     },
     "execution_count": 85,
     "metadata": {},
     "output_type": "execute_result"
    }
   ],
   "source": [
    "distanceBetween(LLLat, LLLong,LRLat, LRLong)"
   ]
  },
  {
   "cell_type": "code",
   "execution_count": null,
   "id": "ranking-celebrity",
   "metadata": {},
   "outputs": [],
   "source": []
  },
  {
   "cell_type": "code",
   "execution_count": 12,
   "id": "european-fellow",
   "metadata": {},
   "outputs": [],
   "source": [
    "from PIL import Image\n",
    "import os"
   ]
  },
  {
   "cell_type": "code",
   "execution_count": 27,
   "id": "received-consciousness",
   "metadata": {},
   "outputs": [],
   "source": [
    "#\"C:\\Users\\kunal\\Downloads\\R2AWF08262020281045_L1G\"\n",
    "path = \"/Users/kunal/Downloads/LC08_L2SP_019036_20201130_20210316_02_T2_SR_B1.tif\""
   ]
  },
  {
   "cell_type": "code",
   "execution_count": 28,
   "id": "embedded-animal",
   "metadata": {},
   "outputs": [],
   "source": [
    "img = path"
   ]
  },
  {
   "cell_type": "code",
   "execution_count": 29,
   "id": "sensitive-chase",
   "metadata": {},
   "outputs": [],
   "source": [
    "im = Image.open(img)"
   ]
  },
  {
   "cell_type": "code",
   "execution_count": 30,
   "id": "serial-excess",
   "metadata": {},
   "outputs": [],
   "source": [
    "Image.MAX_IMAGE_PIXELS = None"
   ]
  },
  {
   "cell_type": "code",
   "execution_count": 31,
   "id": "elder-declaration",
   "metadata": {},
   "outputs": [
    {
     "data": {
      "text/plain": [
       "(7561, 7711)"
      ]
     },
     "execution_count": 31,
     "metadata": {},
     "output_type": "execute_result"
    }
   ],
   "source": [
    "im.size"
   ]
  },
  {
   "cell_type": "code",
   "execution_count": 38,
   "id": "planned-milton",
   "metadata": {},
   "outputs": [],
   "source": [
    "from math import sin, cos, sqrt, atan2, radians"
   ]
  },
  {
   "cell_type": "code",
   "execution_count": 33,
   "id": "normal-hurricane",
   "metadata": {},
   "outputs": [],
   "source": [
    "def distanceBetween(lat1,long1,lat2,long2,returnFormat = \"feet\",printAll = False):\n",
    "    R = 6373.0\n",
    "    lat1 = radians(lat1)\n",
    "    lon1 = radians(long1)\n",
    "    lat2 = radians(lat2)\n",
    "    lon2 = radians(long2)\n",
    "\n",
    "    dlon = lon2 - lon1\n",
    "    dlat = lat2 - lat1\n",
    "\n",
    "    a = sin(dlat / 2)**2 + cos(lat1) * cos(lat2) * sin(dlon / 2)**2\n",
    "    c = 2 * atan2(sqrt(a), sqrt(1 - a)) # comment where u got this\n",
    "\n",
    "    distance = R * c\n",
    "    if printAll:\n",
    "        print(distance , \"km\")\n",
    "        print(distance/1000, \"meters\")\n",
    "        print(distance/1.609, \"miles\")\n",
    "        print(distance*3281, \"ft\")\n",
    "    if returnFormat == \"meters\" or returnFormat == \"m\":\n",
    "        return distance*1000\n",
    "    elif returnFormat == \"mi\" or returnFormat == \"miles\":\n",
    "        return distance/1.609\n",
    "    elif returnFormat == \"ft\" or returnFormat == \"feet\":\n",
    "        return distance*3281\n",
    "    else:\n",
    "        return distance"
   ]
  },
  {
   "cell_type": "code",
   "execution_count": null,
   "id": "embedded-brush",
   "metadata": {},
   "outputs": [],
   "source": []
  },
  {
   "cell_type": "markdown",
   "id": "passing-private",
   "metadata": {},
   "source": [
    "# Detect Location"
   ]
  },
  {
   "cell_type": "code",
   "execution_count": null,
   "id": "invalid-template",
   "metadata": {},
   "outputs": [],
   "source": [
    "LC08_L2SP_019036_20180805_20200831_02_T1\n",
    "LC08_L2SP_019036_20201013_20201105_02_T1\n",
    "LC08_L2SP_018037_20180729_20200831_02_T1\n",
    "LC08_L2SP_018037_20180713_20200831_02_T1"
   ]
  }
 ],
 "metadata": {
  "kernelspec": {
   "display_name": "Python 3",
   "language": "python",
   "name": "python3"
  },
  "language_info": {
   "codemirror_mode": {
    "name": "ipython",
    "version": 3
   },
   "file_extension": ".py",
   "mimetype": "text/x-python",
   "name": "python",
   "nbconvert_exporter": "python",
   "pygments_lexer": "ipython3",
   "version": "3.8.6"
  }
 },
 "nbformat": 4,
 "nbformat_minor": 5
}
